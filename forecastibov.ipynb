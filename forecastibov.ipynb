{
  "nbformat": 4,
  "nbformat_minor": 0,
  "metadata": {
    "colab": {
      "provenance": []
    },
    "kernelspec": {
      "name": "python3",
      "display_name": "Python 3"
    },
    "language_info": {
      "name": "python"
    }
  },
  "cells": [
    {
      "cell_type": "code",
      "execution_count": 1,
      "metadata": {
        "id": "cCkYOoSMDVCu"
      },
      "outputs": [],
      "source": [
        "#importação das bibliotecas\n",
        "import pandas as pd\n",
        "import time\n",
        "import datetime\n",
        "from pandas import Timestamp\n",
        "from datetime import datetime"
      ]
    },
    {
      "cell_type": "code",
      "source": [
        "#importando o arquivo e visualizando as 5 primeiras linhas\n",
        "cotacoes= pd.read_csv(\"/content/^BVSP (2).csv\")\n",
        "cotacoes.head()"
      ],
      "metadata": {
        "colab": {
          "base_uri": "https://localhost:8080/",
          "height": 206
        },
        "id": "I1OmoRRtDZOG",
        "outputId": "8625a74e-7297-4a87-e2b0-b2b7b4db3966"
      },
      "execution_count": null,
      "outputs": [
        {
          "output_type": "execute_result",
          "data": {
            "text/plain": [
              "         Date      Open      High      Low     Close  Adj Close    Volume\n",
              "0  2022-06-28  100766.0  102237.0  99956.0  100591.0   100591.0  10493900\n",
              "1  2022-06-29  100592.0  101313.0  99218.0   99622.0    99622.0  10448100\n",
              "2  2022-06-30   99619.0   99619.0  97758.0   98542.0    98542.0  14588800\n",
              "3  2022-07-01   98542.0   99340.0  97231.0   98954.0    98954.0  11609800\n",
              "4  2022-07-04   98952.0   99353.0  98264.0   98609.0    98609.0   6279300"
            ],
            "text/html": [
              "\n",
              "  <div id=\"df-c823a34a-d433-4caf-a080-409522eaa570\">\n",
              "    <div class=\"colab-df-container\">\n",
              "      <div>\n",
              "<style scoped>\n",
              "    .dataframe tbody tr th:only-of-type {\n",
              "        vertical-align: middle;\n",
              "    }\n",
              "\n",
              "    .dataframe tbody tr th {\n",
              "        vertical-align: top;\n",
              "    }\n",
              "\n",
              "    .dataframe thead th {\n",
              "        text-align: right;\n",
              "    }\n",
              "</style>\n",
              "<table border=\"1\" class=\"dataframe\">\n",
              "  <thead>\n",
              "    <tr style=\"text-align: right;\">\n",
              "      <th></th>\n",
              "      <th>Date</th>\n",
              "      <th>Open</th>\n",
              "      <th>High</th>\n",
              "      <th>Low</th>\n",
              "      <th>Close</th>\n",
              "      <th>Adj Close</th>\n",
              "      <th>Volume</th>\n",
              "    </tr>\n",
              "  </thead>\n",
              "  <tbody>\n",
              "    <tr>\n",
              "      <th>0</th>\n",
              "      <td>2022-06-28</td>\n",
              "      <td>100766.0</td>\n",
              "      <td>102237.0</td>\n",
              "      <td>99956.0</td>\n",
              "      <td>100591.0</td>\n",
              "      <td>100591.0</td>\n",
              "      <td>10493900</td>\n",
              "    </tr>\n",
              "    <tr>\n",
              "      <th>1</th>\n",
              "      <td>2022-06-29</td>\n",
              "      <td>100592.0</td>\n",
              "      <td>101313.0</td>\n",
              "      <td>99218.0</td>\n",
              "      <td>99622.0</td>\n",
              "      <td>99622.0</td>\n",
              "      <td>10448100</td>\n",
              "    </tr>\n",
              "    <tr>\n",
              "      <th>2</th>\n",
              "      <td>2022-06-30</td>\n",
              "      <td>99619.0</td>\n",
              "      <td>99619.0</td>\n",
              "      <td>97758.0</td>\n",
              "      <td>98542.0</td>\n",
              "      <td>98542.0</td>\n",
              "      <td>14588800</td>\n",
              "    </tr>\n",
              "    <tr>\n",
              "      <th>3</th>\n",
              "      <td>2022-07-01</td>\n",
              "      <td>98542.0</td>\n",
              "      <td>99340.0</td>\n",
              "      <td>97231.0</td>\n",
              "      <td>98954.0</td>\n",
              "      <td>98954.0</td>\n",
              "      <td>11609800</td>\n",
              "    </tr>\n",
              "    <tr>\n",
              "      <th>4</th>\n",
              "      <td>2022-07-04</td>\n",
              "      <td>98952.0</td>\n",
              "      <td>99353.0</td>\n",
              "      <td>98264.0</td>\n",
              "      <td>98609.0</td>\n",
              "      <td>98609.0</td>\n",
              "      <td>6279300</td>\n",
              "    </tr>\n",
              "  </tbody>\n",
              "</table>\n",
              "</div>\n",
              "      <button class=\"colab-df-convert\" onclick=\"convertToInteractive('df-c823a34a-d433-4caf-a080-409522eaa570')\"\n",
              "              title=\"Convert this dataframe to an interactive table.\"\n",
              "              style=\"display:none;\">\n",
              "        \n",
              "  <svg xmlns=\"http://www.w3.org/2000/svg\" height=\"24px\"viewBox=\"0 0 24 24\"\n",
              "       width=\"24px\">\n",
              "    <path d=\"M0 0h24v24H0V0z\" fill=\"none\"/>\n",
              "    <path d=\"M18.56 5.44l.94 2.06.94-2.06 2.06-.94-2.06-.94-.94-2.06-.94 2.06-2.06.94zm-11 1L8.5 8.5l.94-2.06 2.06-.94-2.06-.94L8.5 2.5l-.94 2.06-2.06.94zm10 10l.94 2.06.94-2.06 2.06-.94-2.06-.94-.94-2.06-.94 2.06-2.06.94z\"/><path d=\"M17.41 7.96l-1.37-1.37c-.4-.4-.92-.59-1.43-.59-.52 0-1.04.2-1.43.59L10.3 9.45l-7.72 7.72c-.78.78-.78 2.05 0 2.83L4 21.41c.39.39.9.59 1.41.59.51 0 1.02-.2 1.41-.59l7.78-7.78 2.81-2.81c.8-.78.8-2.07 0-2.86zM5.41 20L4 18.59l7.72-7.72 1.47 1.35L5.41 20z\"/>\n",
              "  </svg>\n",
              "      </button>\n",
              "      \n",
              "  <style>\n",
              "    .colab-df-container {\n",
              "      display:flex;\n",
              "      flex-wrap:wrap;\n",
              "      gap: 12px;\n",
              "    }\n",
              "\n",
              "    .colab-df-convert {\n",
              "      background-color: #E8F0FE;\n",
              "      border: none;\n",
              "      border-radius: 50%;\n",
              "      cursor: pointer;\n",
              "      display: none;\n",
              "      fill: #1967D2;\n",
              "      height: 32px;\n",
              "      padding: 0 0 0 0;\n",
              "      width: 32px;\n",
              "    }\n",
              "\n",
              "    .colab-df-convert:hover {\n",
              "      background-color: #E2EBFA;\n",
              "      box-shadow: 0px 1px 2px rgba(60, 64, 67, 0.3), 0px 1px 3px 1px rgba(60, 64, 67, 0.15);\n",
              "      fill: #174EA6;\n",
              "    }\n",
              "\n",
              "    [theme=dark] .colab-df-convert {\n",
              "      background-color: #3B4455;\n",
              "      fill: #D2E3FC;\n",
              "    }\n",
              "\n",
              "    [theme=dark] .colab-df-convert:hover {\n",
              "      background-color: #434B5C;\n",
              "      box-shadow: 0px 1px 3px 1px rgba(0, 0, 0, 0.15);\n",
              "      filter: drop-shadow(0px 1px 2px rgba(0, 0, 0, 0.3));\n",
              "      fill: #FFFFFF;\n",
              "    }\n",
              "  </style>\n",
              "\n",
              "      <script>\n",
              "        const buttonEl =\n",
              "          document.querySelector('#df-c823a34a-d433-4caf-a080-409522eaa570 button.colab-df-convert');\n",
              "        buttonEl.style.display =\n",
              "          google.colab.kernel.accessAllowed ? 'block' : 'none';\n",
              "\n",
              "        async function convertToInteractive(key) {\n",
              "          const element = document.querySelector('#df-c823a34a-d433-4caf-a080-409522eaa570');\n",
              "          const dataTable =\n",
              "            await google.colab.kernel.invokeFunction('convertToInteractive',\n",
              "                                                     [key], {});\n",
              "          if (!dataTable) return;\n",
              "\n",
              "          const docLinkHtml = 'Like what you see? Visit the ' +\n",
              "            '<a target=\"_blank\" href=https://colab.research.google.com/notebooks/data_table.ipynb>data table notebook</a>'\n",
              "            + ' to learn more about interactive tables.';\n",
              "          element.innerHTML = '';\n",
              "          dataTable['output_type'] = 'display_data';\n",
              "          await google.colab.output.renderOutput(dataTable, element);\n",
              "          const docLink = document.createElement('div');\n",
              "          docLink.innerHTML = docLinkHtml;\n",
              "          element.appendChild(docLink);\n",
              "        }\n",
              "      </script>\n",
              "    </div>\n",
              "  </div>\n",
              "  "
            ]
          },
          "metadata": {},
          "execution_count": 2
        }
      ]
    },
    {
      "cell_type": "code",
      "source": [
        "#excluindo as colunas que nao serao utilizadas na analise\n",
        "cotacoes1=cotacoes.drop(['Open', 'High','Low','Adj Close','Volume'], axis=1)"
      ],
      "metadata": {
        "id": "BTanNSYNDwHs"
      },
      "execution_count": null,
      "outputs": []
    },
    {
      "cell_type": "code",
      "source": [
        "cotacoes1"
      ],
      "metadata": {
        "colab": {
          "base_uri": "https://localhost:8080/",
          "height": 424
        },
        "id": "N3K3I-aOEYZj",
        "outputId": "ba98c0af-5d31-4847-d23f-6a719f8c47be"
      },
      "execution_count": null,
      "outputs": [
        {
          "output_type": "execute_result",
          "data": {
            "text/plain": [
              "           Date     Close\n",
              "0    2022-06-28  100591.0\n",
              "1    2022-06-29   99622.0\n",
              "2    2022-06-30   98542.0\n",
              "3    2022-07-01   98954.0\n",
              "4    2022-07-04   98609.0\n",
              "..          ...       ...\n",
              "122  2022-12-21  107313.0\n",
              "123  2022-12-22  107317.0\n",
              "124  2022-12-23  109698.0\n",
              "125  2022-12-26  108738.0\n",
              "126  2022-12-27  108347.0\n",
              "\n",
              "[127 rows x 2 columns]"
            ],
            "text/html": [
              "\n",
              "  <div id=\"df-cdd0cebf-ffdf-40e5-808a-10756757fdab\">\n",
              "    <div class=\"colab-df-container\">\n",
              "      <div>\n",
              "<style scoped>\n",
              "    .dataframe tbody tr th:only-of-type {\n",
              "        vertical-align: middle;\n",
              "    }\n",
              "\n",
              "    .dataframe tbody tr th {\n",
              "        vertical-align: top;\n",
              "    }\n",
              "\n",
              "    .dataframe thead th {\n",
              "        text-align: right;\n",
              "    }\n",
              "</style>\n",
              "<table border=\"1\" class=\"dataframe\">\n",
              "  <thead>\n",
              "    <tr style=\"text-align: right;\">\n",
              "      <th></th>\n",
              "      <th>Date</th>\n",
              "      <th>Close</th>\n",
              "    </tr>\n",
              "  </thead>\n",
              "  <tbody>\n",
              "    <tr>\n",
              "      <th>0</th>\n",
              "      <td>2022-06-28</td>\n",
              "      <td>100591.0</td>\n",
              "    </tr>\n",
              "    <tr>\n",
              "      <th>1</th>\n",
              "      <td>2022-06-29</td>\n",
              "      <td>99622.0</td>\n",
              "    </tr>\n",
              "    <tr>\n",
              "      <th>2</th>\n",
              "      <td>2022-06-30</td>\n",
              "      <td>98542.0</td>\n",
              "    </tr>\n",
              "    <tr>\n",
              "      <th>3</th>\n",
              "      <td>2022-07-01</td>\n",
              "      <td>98954.0</td>\n",
              "    </tr>\n",
              "    <tr>\n",
              "      <th>4</th>\n",
              "      <td>2022-07-04</td>\n",
              "      <td>98609.0</td>\n",
              "    </tr>\n",
              "    <tr>\n",
              "      <th>...</th>\n",
              "      <td>...</td>\n",
              "      <td>...</td>\n",
              "    </tr>\n",
              "    <tr>\n",
              "      <th>122</th>\n",
              "      <td>2022-12-21</td>\n",
              "      <td>107313.0</td>\n",
              "    </tr>\n",
              "    <tr>\n",
              "      <th>123</th>\n",
              "      <td>2022-12-22</td>\n",
              "      <td>107317.0</td>\n",
              "    </tr>\n",
              "    <tr>\n",
              "      <th>124</th>\n",
              "      <td>2022-12-23</td>\n",
              "      <td>109698.0</td>\n",
              "    </tr>\n",
              "    <tr>\n",
              "      <th>125</th>\n",
              "      <td>2022-12-26</td>\n",
              "      <td>108738.0</td>\n",
              "    </tr>\n",
              "    <tr>\n",
              "      <th>126</th>\n",
              "      <td>2022-12-27</td>\n",
              "      <td>108347.0</td>\n",
              "    </tr>\n",
              "  </tbody>\n",
              "</table>\n",
              "<p>127 rows × 2 columns</p>\n",
              "</div>\n",
              "      <button class=\"colab-df-convert\" onclick=\"convertToInteractive('df-cdd0cebf-ffdf-40e5-808a-10756757fdab')\"\n",
              "              title=\"Convert this dataframe to an interactive table.\"\n",
              "              style=\"display:none;\">\n",
              "        \n",
              "  <svg xmlns=\"http://www.w3.org/2000/svg\" height=\"24px\"viewBox=\"0 0 24 24\"\n",
              "       width=\"24px\">\n",
              "    <path d=\"M0 0h24v24H0V0z\" fill=\"none\"/>\n",
              "    <path d=\"M18.56 5.44l.94 2.06.94-2.06 2.06-.94-2.06-.94-.94-2.06-.94 2.06-2.06.94zm-11 1L8.5 8.5l.94-2.06 2.06-.94-2.06-.94L8.5 2.5l-.94 2.06-2.06.94zm10 10l.94 2.06.94-2.06 2.06-.94-2.06-.94-.94-2.06-.94 2.06-2.06.94z\"/><path d=\"M17.41 7.96l-1.37-1.37c-.4-.4-.92-.59-1.43-.59-.52 0-1.04.2-1.43.59L10.3 9.45l-7.72 7.72c-.78.78-.78 2.05 0 2.83L4 21.41c.39.39.9.59 1.41.59.51 0 1.02-.2 1.41-.59l7.78-7.78 2.81-2.81c.8-.78.8-2.07 0-2.86zM5.41 20L4 18.59l7.72-7.72 1.47 1.35L5.41 20z\"/>\n",
              "  </svg>\n",
              "      </button>\n",
              "      \n",
              "  <style>\n",
              "    .colab-df-container {\n",
              "      display:flex;\n",
              "      flex-wrap:wrap;\n",
              "      gap: 12px;\n",
              "    }\n",
              "\n",
              "    .colab-df-convert {\n",
              "      background-color: #E8F0FE;\n",
              "      border: none;\n",
              "      border-radius: 50%;\n",
              "      cursor: pointer;\n",
              "      display: none;\n",
              "      fill: #1967D2;\n",
              "      height: 32px;\n",
              "      padding: 0 0 0 0;\n",
              "      width: 32px;\n",
              "    }\n",
              "\n",
              "    .colab-df-convert:hover {\n",
              "      background-color: #E2EBFA;\n",
              "      box-shadow: 0px 1px 2px rgba(60, 64, 67, 0.3), 0px 1px 3px 1px rgba(60, 64, 67, 0.15);\n",
              "      fill: #174EA6;\n",
              "    }\n",
              "\n",
              "    [theme=dark] .colab-df-convert {\n",
              "      background-color: #3B4455;\n",
              "      fill: #D2E3FC;\n",
              "    }\n",
              "\n",
              "    [theme=dark] .colab-df-convert:hover {\n",
              "      background-color: #434B5C;\n",
              "      box-shadow: 0px 1px 3px 1px rgba(0, 0, 0, 0.15);\n",
              "      filter: drop-shadow(0px 1px 2px rgba(0, 0, 0, 0.3));\n",
              "      fill: #FFFFFF;\n",
              "    }\n",
              "  </style>\n",
              "\n",
              "      <script>\n",
              "        const buttonEl =\n",
              "          document.querySelector('#df-cdd0cebf-ffdf-40e5-808a-10756757fdab button.colab-df-convert');\n",
              "        buttonEl.style.display =\n",
              "          google.colab.kernel.accessAllowed ? 'block' : 'none';\n",
              "\n",
              "        async function convertToInteractive(key) {\n",
              "          const element = document.querySelector('#df-cdd0cebf-ffdf-40e5-808a-10756757fdab');\n",
              "          const dataTable =\n",
              "            await google.colab.kernel.invokeFunction('convertToInteractive',\n",
              "                                                     [key], {});\n",
              "          if (!dataTable) return;\n",
              "\n",
              "          const docLinkHtml = 'Like what you see? Visit the ' +\n",
              "            '<a target=\"_blank\" href=https://colab.research.google.com/notebooks/data_table.ipynb>data table notebook</a>'\n",
              "            + ' to learn more about interactive tables.';\n",
              "          element.innerHTML = '';\n",
              "          dataTable['output_type'] = 'display_data';\n",
              "          await google.colab.output.renderOutput(dataTable, element);\n",
              "          const docLink = document.createElement('div');\n",
              "          docLink.innerHTML = docLinkHtml;\n",
              "          element.appendChild(docLink);\n",
              "        }\n",
              "      </script>\n",
              "    </div>\n",
              "  </div>\n",
              "  "
            ]
          },
          "metadata": {},
          "execution_count": 4
        }
      ]
    },
    {
      "cell_type": "code",
      "source": [
        "#para ser possivel a aplicacao das ferramentas de ML necessario transformar o datetime em timestamp(conversão de tipo)\n",
        "#foi criada um lista para armazenar os valores e posteriormente criar uma nova coluna \n",
        "timestamp=[]\n",
        "for i in cotacoes1['Date']:\n",
        "  timestamp.append(time.mktime(datetime.strptime(i, \"%Y-%m-%d\").timetuple()))\n"
      ],
      "metadata": {
        "id": "3ZOK1xccIrK8"
      },
      "execution_count": null,
      "outputs": []
    },
    {
      "cell_type": "code",
      "source": [
        "timestamp"
      ],
      "metadata": {
        "colab": {
          "base_uri": "https://localhost:8080/"
        },
        "id": "vkNs1CIt_yM8",
        "outputId": "7ef0a254-7b94-42be-e12c-b916eec32eb2"
      },
      "execution_count": null,
      "outputs": [
        {
          "output_type": "execute_result",
          "data": {
            "text/plain": [
              "[1656374400.0,\n",
              " 1656460800.0,\n",
              " 1656547200.0,\n",
              " 1656633600.0,\n",
              " 1656892800.0,\n",
              " 1656979200.0,\n",
              " 1657065600.0,\n",
              " 1657152000.0,\n",
              " 1657238400.0,\n",
              " 1657497600.0,\n",
              " 1657584000.0,\n",
              " 1657670400.0,\n",
              " 1657756800.0,\n",
              " 1657843200.0,\n",
              " 1658102400.0,\n",
              " 1658188800.0,\n",
              " 1658275200.0,\n",
              " 1658361600.0,\n",
              " 1658448000.0,\n",
              " 1658707200.0,\n",
              " 1658793600.0,\n",
              " 1658880000.0,\n",
              " 1658966400.0,\n",
              " 1659052800.0,\n",
              " 1659312000.0,\n",
              " 1659398400.0,\n",
              " 1659484800.0,\n",
              " 1659571200.0,\n",
              " 1659657600.0,\n",
              " 1659916800.0,\n",
              " 1660003200.0,\n",
              " 1660089600.0,\n",
              " 1660176000.0,\n",
              " 1660262400.0,\n",
              " 1660521600.0,\n",
              " 1660608000.0,\n",
              " 1660694400.0,\n",
              " 1660780800.0,\n",
              " 1660867200.0,\n",
              " 1661126400.0,\n",
              " 1661212800.0,\n",
              " 1661299200.0,\n",
              " 1661385600.0,\n",
              " 1661472000.0,\n",
              " 1661731200.0,\n",
              " 1661817600.0,\n",
              " 1661904000.0,\n",
              " 1661990400.0,\n",
              " 1662076800.0,\n",
              " 1662336000.0,\n",
              " 1662422400.0,\n",
              " 1662595200.0,\n",
              " 1662681600.0,\n",
              " 1662940800.0,\n",
              " 1663027200.0,\n",
              " 1663113600.0,\n",
              " 1663200000.0,\n",
              " 1663286400.0,\n",
              " 1663545600.0,\n",
              " 1663632000.0,\n",
              " 1663718400.0,\n",
              " 1663804800.0,\n",
              " 1663891200.0,\n",
              " 1664150400.0,\n",
              " 1664236800.0,\n",
              " 1664323200.0,\n",
              " 1664409600.0,\n",
              " 1664496000.0,\n",
              " 1664755200.0,\n",
              " 1664841600.0,\n",
              " 1664928000.0,\n",
              " 1665014400.0,\n",
              " 1665100800.0,\n",
              " 1665360000.0,\n",
              " 1665446400.0,\n",
              " 1665619200.0,\n",
              " 1665705600.0,\n",
              " 1665964800.0,\n",
              " 1666051200.0,\n",
              " 1666137600.0,\n",
              " 1666224000.0,\n",
              " 1666310400.0,\n",
              " 1666569600.0,\n",
              " 1666656000.0,\n",
              " 1666742400.0,\n",
              " 1666828800.0,\n",
              " 1666915200.0,\n",
              " 1667174400.0,\n",
              " 1667260800.0,\n",
              " 1667433600.0,\n",
              " 1667520000.0,\n",
              " 1667779200.0,\n",
              " 1667865600.0,\n",
              " 1667952000.0,\n",
              " 1668038400.0,\n",
              " 1668124800.0,\n",
              " 1668384000.0,\n",
              " 1668556800.0,\n",
              " 1668643200.0,\n",
              " 1668729600.0,\n",
              " 1668988800.0,\n",
              " 1669075200.0,\n",
              " 1669161600.0,\n",
              " 1669248000.0,\n",
              " 1669334400.0,\n",
              " 1669593600.0,\n",
              " 1669680000.0,\n",
              " 1669766400.0,\n",
              " 1669852800.0,\n",
              " 1669939200.0,\n",
              " 1670198400.0,\n",
              " 1670284800.0,\n",
              " 1670371200.0,\n",
              " 1670457600.0,\n",
              " 1670544000.0,\n",
              " 1670803200.0,\n",
              " 1670889600.0,\n",
              " 1670976000.0,\n",
              " 1671062400.0,\n",
              " 1671148800.0,\n",
              " 1671408000.0,\n",
              " 1671494400.0,\n",
              " 1671580800.0,\n",
              " 1671667200.0,\n",
              " 1671753600.0,\n",
              " 1672012800.0,\n",
              " 1672099200.0]"
            ]
          },
          "metadata": {},
          "execution_count": 6
        }
      ]
    },
    {
      "cell_type": "code",
      "source": [
        "#importação da biblioteca time e transformação da lista timestamp em coluna\n",
        "from os import times\n",
        "cotacoes1['timestamp']=timestamp"
      ],
      "metadata": {
        "id": "ngmJBSWHG0Re"
      },
      "execution_count": null,
      "outputs": []
    },
    {
      "cell_type": "code",
      "source": [
        "cotacoes1"
      ],
      "metadata": {
        "colab": {
          "base_uri": "https://localhost:8080/",
          "height": 424
        },
        "id": "PaIntKosG-Rn",
        "outputId": "898dcfaf-e837-4787-8312-9c234d2e516e"
      },
      "execution_count": null,
      "outputs": [
        {
          "output_type": "execute_result",
          "data": {
            "text/plain": [
              "           Date     Close     timestamp\n",
              "0    2022-06-28  100591.0  1.656374e+09\n",
              "1    2022-06-29   99622.0  1.656461e+09\n",
              "2    2022-06-30   98542.0  1.656547e+09\n",
              "3    2022-07-01   98954.0  1.656634e+09\n",
              "4    2022-07-04   98609.0  1.656893e+09\n",
              "..          ...       ...           ...\n",
              "122  2022-12-21  107313.0  1.671581e+09\n",
              "123  2022-12-22  107317.0  1.671667e+09\n",
              "124  2022-12-23  109698.0  1.671754e+09\n",
              "125  2022-12-26  108738.0  1.672013e+09\n",
              "126  2022-12-27  108347.0  1.672099e+09\n",
              "\n",
              "[127 rows x 3 columns]"
            ],
            "text/html": [
              "\n",
              "  <div id=\"df-11149b11-01fa-434b-bffa-8dc958cbf4ad\">\n",
              "    <div class=\"colab-df-container\">\n",
              "      <div>\n",
              "<style scoped>\n",
              "    .dataframe tbody tr th:only-of-type {\n",
              "        vertical-align: middle;\n",
              "    }\n",
              "\n",
              "    .dataframe tbody tr th {\n",
              "        vertical-align: top;\n",
              "    }\n",
              "\n",
              "    .dataframe thead th {\n",
              "        text-align: right;\n",
              "    }\n",
              "</style>\n",
              "<table border=\"1\" class=\"dataframe\">\n",
              "  <thead>\n",
              "    <tr style=\"text-align: right;\">\n",
              "      <th></th>\n",
              "      <th>Date</th>\n",
              "      <th>Close</th>\n",
              "      <th>timestamp</th>\n",
              "    </tr>\n",
              "  </thead>\n",
              "  <tbody>\n",
              "    <tr>\n",
              "      <th>0</th>\n",
              "      <td>2022-06-28</td>\n",
              "      <td>100591.0</td>\n",
              "      <td>1.656374e+09</td>\n",
              "    </tr>\n",
              "    <tr>\n",
              "      <th>1</th>\n",
              "      <td>2022-06-29</td>\n",
              "      <td>99622.0</td>\n",
              "      <td>1.656461e+09</td>\n",
              "    </tr>\n",
              "    <tr>\n",
              "      <th>2</th>\n",
              "      <td>2022-06-30</td>\n",
              "      <td>98542.0</td>\n",
              "      <td>1.656547e+09</td>\n",
              "    </tr>\n",
              "    <tr>\n",
              "      <th>3</th>\n",
              "      <td>2022-07-01</td>\n",
              "      <td>98954.0</td>\n",
              "      <td>1.656634e+09</td>\n",
              "    </tr>\n",
              "    <tr>\n",
              "      <th>4</th>\n",
              "      <td>2022-07-04</td>\n",
              "      <td>98609.0</td>\n",
              "      <td>1.656893e+09</td>\n",
              "    </tr>\n",
              "    <tr>\n",
              "      <th>...</th>\n",
              "      <td>...</td>\n",
              "      <td>...</td>\n",
              "      <td>...</td>\n",
              "    </tr>\n",
              "    <tr>\n",
              "      <th>122</th>\n",
              "      <td>2022-12-21</td>\n",
              "      <td>107313.0</td>\n",
              "      <td>1.671581e+09</td>\n",
              "    </tr>\n",
              "    <tr>\n",
              "      <th>123</th>\n",
              "      <td>2022-12-22</td>\n",
              "      <td>107317.0</td>\n",
              "      <td>1.671667e+09</td>\n",
              "    </tr>\n",
              "    <tr>\n",
              "      <th>124</th>\n",
              "      <td>2022-12-23</td>\n",
              "      <td>109698.0</td>\n",
              "      <td>1.671754e+09</td>\n",
              "    </tr>\n",
              "    <tr>\n",
              "      <th>125</th>\n",
              "      <td>2022-12-26</td>\n",
              "      <td>108738.0</td>\n",
              "      <td>1.672013e+09</td>\n",
              "    </tr>\n",
              "    <tr>\n",
              "      <th>126</th>\n",
              "      <td>2022-12-27</td>\n",
              "      <td>108347.0</td>\n",
              "      <td>1.672099e+09</td>\n",
              "    </tr>\n",
              "  </tbody>\n",
              "</table>\n",
              "<p>127 rows × 3 columns</p>\n",
              "</div>\n",
              "      <button class=\"colab-df-convert\" onclick=\"convertToInteractive('df-11149b11-01fa-434b-bffa-8dc958cbf4ad')\"\n",
              "              title=\"Convert this dataframe to an interactive table.\"\n",
              "              style=\"display:none;\">\n",
              "        \n",
              "  <svg xmlns=\"http://www.w3.org/2000/svg\" height=\"24px\"viewBox=\"0 0 24 24\"\n",
              "       width=\"24px\">\n",
              "    <path d=\"M0 0h24v24H0V0z\" fill=\"none\"/>\n",
              "    <path d=\"M18.56 5.44l.94 2.06.94-2.06 2.06-.94-2.06-.94-.94-2.06-.94 2.06-2.06.94zm-11 1L8.5 8.5l.94-2.06 2.06-.94-2.06-.94L8.5 2.5l-.94 2.06-2.06.94zm10 10l.94 2.06.94-2.06 2.06-.94-2.06-.94-.94-2.06-.94 2.06-2.06.94z\"/><path d=\"M17.41 7.96l-1.37-1.37c-.4-.4-.92-.59-1.43-.59-.52 0-1.04.2-1.43.59L10.3 9.45l-7.72 7.72c-.78.78-.78 2.05 0 2.83L4 21.41c.39.39.9.59 1.41.59.51 0 1.02-.2 1.41-.59l7.78-7.78 2.81-2.81c.8-.78.8-2.07 0-2.86zM5.41 20L4 18.59l7.72-7.72 1.47 1.35L5.41 20z\"/>\n",
              "  </svg>\n",
              "      </button>\n",
              "      \n",
              "  <style>\n",
              "    .colab-df-container {\n",
              "      display:flex;\n",
              "      flex-wrap:wrap;\n",
              "      gap: 12px;\n",
              "    }\n",
              "\n",
              "    .colab-df-convert {\n",
              "      background-color: #E8F0FE;\n",
              "      border: none;\n",
              "      border-radius: 50%;\n",
              "      cursor: pointer;\n",
              "      display: none;\n",
              "      fill: #1967D2;\n",
              "      height: 32px;\n",
              "      padding: 0 0 0 0;\n",
              "      width: 32px;\n",
              "    }\n",
              "\n",
              "    .colab-df-convert:hover {\n",
              "      background-color: #E2EBFA;\n",
              "      box-shadow: 0px 1px 2px rgba(60, 64, 67, 0.3), 0px 1px 3px 1px rgba(60, 64, 67, 0.15);\n",
              "      fill: #174EA6;\n",
              "    }\n",
              "\n",
              "    [theme=dark] .colab-df-convert {\n",
              "      background-color: #3B4455;\n",
              "      fill: #D2E3FC;\n",
              "    }\n",
              "\n",
              "    [theme=dark] .colab-df-convert:hover {\n",
              "      background-color: #434B5C;\n",
              "      box-shadow: 0px 1px 3px 1px rgba(0, 0, 0, 0.15);\n",
              "      filter: drop-shadow(0px 1px 2px rgba(0, 0, 0, 0.3));\n",
              "      fill: #FFFFFF;\n",
              "    }\n",
              "  </style>\n",
              "\n",
              "      <script>\n",
              "        const buttonEl =\n",
              "          document.querySelector('#df-11149b11-01fa-434b-bffa-8dc958cbf4ad button.colab-df-convert');\n",
              "        buttonEl.style.display =\n",
              "          google.colab.kernel.accessAllowed ? 'block' : 'none';\n",
              "\n",
              "        async function convertToInteractive(key) {\n",
              "          const element = document.querySelector('#df-11149b11-01fa-434b-bffa-8dc958cbf4ad');\n",
              "          const dataTable =\n",
              "            await google.colab.kernel.invokeFunction('convertToInteractive',\n",
              "                                                     [key], {});\n",
              "          if (!dataTable) return;\n",
              "\n",
              "          const docLinkHtml = 'Like what you see? Visit the ' +\n",
              "            '<a target=\"_blank\" href=https://colab.research.google.com/notebooks/data_table.ipynb>data table notebook</a>'\n",
              "            + ' to learn more about interactive tables.';\n",
              "          element.innerHTML = '';\n",
              "          dataTable['output_type'] = 'display_data';\n",
              "          await google.colab.output.renderOutput(dataTable, element);\n",
              "          const docLink = document.createElement('div');\n",
              "          docLink.innerHTML = docLinkHtml;\n",
              "          element.appendChild(docLink);\n",
              "        }\n",
              "      </script>\n",
              "    </div>\n",
              "  </div>\n",
              "  "
            ]
          },
          "metadata": {},
          "execution_count": 8
        }
      ]
    },
    {
      "cell_type": "code",
      "source": [
        "#dropando o date que foi substituido pela coluna timstamp\n",
        "cotacoes1.drop(['Date'], axis=1)"
      ],
      "metadata": {
        "id": "ay6OplIpJTsz",
        "colab": {
          "base_uri": "https://localhost:8080/",
          "height": 424
        },
        "outputId": "191edd23-0dcf-4c3b-ae27-e467bbdbf448"
      },
      "execution_count": null,
      "outputs": [
        {
          "output_type": "execute_result",
          "data": {
            "text/plain": [
              "        Close     timestamp\n",
              "0    100591.0  1.656374e+09\n",
              "1     99622.0  1.656461e+09\n",
              "2     98542.0  1.656547e+09\n",
              "3     98954.0  1.656634e+09\n",
              "4     98609.0  1.656893e+09\n",
              "..        ...           ...\n",
              "122  107313.0  1.671581e+09\n",
              "123  107317.0  1.671667e+09\n",
              "124  109698.0  1.671754e+09\n",
              "125  108738.0  1.672013e+09\n",
              "126  108347.0  1.672099e+09\n",
              "\n",
              "[127 rows x 2 columns]"
            ],
            "text/html": [
              "\n",
              "  <div id=\"df-4fd7e8c9-c29e-4d15-bc0e-f29bd69557a3\">\n",
              "    <div class=\"colab-df-container\">\n",
              "      <div>\n",
              "<style scoped>\n",
              "    .dataframe tbody tr th:only-of-type {\n",
              "        vertical-align: middle;\n",
              "    }\n",
              "\n",
              "    .dataframe tbody tr th {\n",
              "        vertical-align: top;\n",
              "    }\n",
              "\n",
              "    .dataframe thead th {\n",
              "        text-align: right;\n",
              "    }\n",
              "</style>\n",
              "<table border=\"1\" class=\"dataframe\">\n",
              "  <thead>\n",
              "    <tr style=\"text-align: right;\">\n",
              "      <th></th>\n",
              "      <th>Close</th>\n",
              "      <th>timestamp</th>\n",
              "    </tr>\n",
              "  </thead>\n",
              "  <tbody>\n",
              "    <tr>\n",
              "      <th>0</th>\n",
              "      <td>100591.0</td>\n",
              "      <td>1.656374e+09</td>\n",
              "    </tr>\n",
              "    <tr>\n",
              "      <th>1</th>\n",
              "      <td>99622.0</td>\n",
              "      <td>1.656461e+09</td>\n",
              "    </tr>\n",
              "    <tr>\n",
              "      <th>2</th>\n",
              "      <td>98542.0</td>\n",
              "      <td>1.656547e+09</td>\n",
              "    </tr>\n",
              "    <tr>\n",
              "      <th>3</th>\n",
              "      <td>98954.0</td>\n",
              "      <td>1.656634e+09</td>\n",
              "    </tr>\n",
              "    <tr>\n",
              "      <th>4</th>\n",
              "      <td>98609.0</td>\n",
              "      <td>1.656893e+09</td>\n",
              "    </tr>\n",
              "    <tr>\n",
              "      <th>...</th>\n",
              "      <td>...</td>\n",
              "      <td>...</td>\n",
              "    </tr>\n",
              "    <tr>\n",
              "      <th>122</th>\n",
              "      <td>107313.0</td>\n",
              "      <td>1.671581e+09</td>\n",
              "    </tr>\n",
              "    <tr>\n",
              "      <th>123</th>\n",
              "      <td>107317.0</td>\n",
              "      <td>1.671667e+09</td>\n",
              "    </tr>\n",
              "    <tr>\n",
              "      <th>124</th>\n",
              "      <td>109698.0</td>\n",
              "      <td>1.671754e+09</td>\n",
              "    </tr>\n",
              "    <tr>\n",
              "      <th>125</th>\n",
              "      <td>108738.0</td>\n",
              "      <td>1.672013e+09</td>\n",
              "    </tr>\n",
              "    <tr>\n",
              "      <th>126</th>\n",
              "      <td>108347.0</td>\n",
              "      <td>1.672099e+09</td>\n",
              "    </tr>\n",
              "  </tbody>\n",
              "</table>\n",
              "<p>127 rows × 2 columns</p>\n",
              "</div>\n",
              "      <button class=\"colab-df-convert\" onclick=\"convertToInteractive('df-4fd7e8c9-c29e-4d15-bc0e-f29bd69557a3')\"\n",
              "              title=\"Convert this dataframe to an interactive table.\"\n",
              "              style=\"display:none;\">\n",
              "        \n",
              "  <svg xmlns=\"http://www.w3.org/2000/svg\" height=\"24px\"viewBox=\"0 0 24 24\"\n",
              "       width=\"24px\">\n",
              "    <path d=\"M0 0h24v24H0V0z\" fill=\"none\"/>\n",
              "    <path d=\"M18.56 5.44l.94 2.06.94-2.06 2.06-.94-2.06-.94-.94-2.06-.94 2.06-2.06.94zm-11 1L8.5 8.5l.94-2.06 2.06-.94-2.06-.94L8.5 2.5l-.94 2.06-2.06.94zm10 10l.94 2.06.94-2.06 2.06-.94-2.06-.94-.94-2.06-.94 2.06-2.06.94z\"/><path d=\"M17.41 7.96l-1.37-1.37c-.4-.4-.92-.59-1.43-.59-.52 0-1.04.2-1.43.59L10.3 9.45l-7.72 7.72c-.78.78-.78 2.05 0 2.83L4 21.41c.39.39.9.59 1.41.59.51 0 1.02-.2 1.41-.59l7.78-7.78 2.81-2.81c.8-.78.8-2.07 0-2.86zM5.41 20L4 18.59l7.72-7.72 1.47 1.35L5.41 20z\"/>\n",
              "  </svg>\n",
              "      </button>\n",
              "      \n",
              "  <style>\n",
              "    .colab-df-container {\n",
              "      display:flex;\n",
              "      flex-wrap:wrap;\n",
              "      gap: 12px;\n",
              "    }\n",
              "\n",
              "    .colab-df-convert {\n",
              "      background-color: #E8F0FE;\n",
              "      border: none;\n",
              "      border-radius: 50%;\n",
              "      cursor: pointer;\n",
              "      display: none;\n",
              "      fill: #1967D2;\n",
              "      height: 32px;\n",
              "      padding: 0 0 0 0;\n",
              "      width: 32px;\n",
              "    }\n",
              "\n",
              "    .colab-df-convert:hover {\n",
              "      background-color: #E2EBFA;\n",
              "      box-shadow: 0px 1px 2px rgba(60, 64, 67, 0.3), 0px 1px 3px 1px rgba(60, 64, 67, 0.15);\n",
              "      fill: #174EA6;\n",
              "    }\n",
              "\n",
              "    [theme=dark] .colab-df-convert {\n",
              "      background-color: #3B4455;\n",
              "      fill: #D2E3FC;\n",
              "    }\n",
              "\n",
              "    [theme=dark] .colab-df-convert:hover {\n",
              "      background-color: #434B5C;\n",
              "      box-shadow: 0px 1px 3px 1px rgba(0, 0, 0, 0.15);\n",
              "      filter: drop-shadow(0px 1px 2px rgba(0, 0, 0, 0.3));\n",
              "      fill: #FFFFFF;\n",
              "    }\n",
              "  </style>\n",
              "\n",
              "      <script>\n",
              "        const buttonEl =\n",
              "          document.querySelector('#df-4fd7e8c9-c29e-4d15-bc0e-f29bd69557a3 button.colab-df-convert');\n",
              "        buttonEl.style.display =\n",
              "          google.colab.kernel.accessAllowed ? 'block' : 'none';\n",
              "\n",
              "        async function convertToInteractive(key) {\n",
              "          const element = document.querySelector('#df-4fd7e8c9-c29e-4d15-bc0e-f29bd69557a3');\n",
              "          const dataTable =\n",
              "            await google.colab.kernel.invokeFunction('convertToInteractive',\n",
              "                                                     [key], {});\n",
              "          if (!dataTable) return;\n",
              "\n",
              "          const docLinkHtml = 'Like what you see? Visit the ' +\n",
              "            '<a target=\"_blank\" href=https://colab.research.google.com/notebooks/data_table.ipynb>data table notebook</a>'\n",
              "            + ' to learn more about interactive tables.';\n",
              "          element.innerHTML = '';\n",
              "          dataTable['output_type'] = 'display_data';\n",
              "          await google.colab.output.renderOutput(dataTable, element);\n",
              "          const docLink = document.createElement('div');\n",
              "          docLink.innerHTML = docLinkHtml;\n",
              "          element.appendChild(docLink);\n",
              "        }\n",
              "      </script>\n",
              "    </div>\n",
              "  </div>\n",
              "  "
            ]
          },
          "metadata": {},
          "execution_count": 9
        }
      ]
    },
    {
      "cell_type": "code",
      "source": [
        "cotacoes1.count()"
      ],
      "metadata": {
        "colab": {
          "base_uri": "https://localhost:8080/"
        },
        "id": "GbjMHTWRQj93",
        "outputId": "bfef6344-0fcf-44a7-f748-e7ee92a6d4fb"
      },
      "execution_count": null,
      "outputs": [
        {
          "output_type": "execute_result",
          "data": {
            "text/plain": [
              "Date         127\n",
              "Close        127\n",
              "timestamp    127\n",
              "dtype: int64"
            ]
          },
          "metadata": {},
          "execution_count": 10
        }
      ]
    },
    {
      "cell_type": "code",
      "source": [
        "import seaborn as sns"
      ],
      "metadata": {
        "id": "Jw4nprfFEayD"
      },
      "execution_count": null,
      "outputs": []
    },
    {
      "cell_type": "code",
      "source": [
        "#criando os parametros para melhor visualização\n",
        "import matplotlib as mpl\n",
        "mpl.rcParams['figure.figsize']=(10,6)\n",
        "mpl.rcParams['font.size']=11"
      ],
      "metadata": {
        "id": "lWEoUtoUEqU8"
      },
      "execution_count": null,
      "outputs": []
    },
    {
      "cell_type": "code",
      "source": [
        "#visualizacao dos dados originais\n",
        "sns.lineplot(x='timestamp',y='Close', data=cotacoes1, label='dado_original')"
      ],
      "metadata": {
        "colab": {
          "base_uri": "https://localhost:8080/",
          "height": 405
        },
        "id": "M0IALgbfEqXN",
        "outputId": "45c7d695-de18-48ff-d204-b125d9cf1b91"
      },
      "execution_count": null,
      "outputs": [
        {
          "output_type": "execute_result",
          "data": {
            "text/plain": [
              "<matplotlib.axes._subplots.AxesSubplot at 0x7f96c8642880>"
            ]
          },
          "metadata": {},
          "execution_count": 13
        },
        {
          "output_type": "display_data",
          "data": {
            "text/plain": [
              "<Figure size 720x432 with 1 Axes>"
            ],
            "image/png": "[encoded data removed]"
          },
          "metadata": {
            "needs_background": "light"
          }
        }
      ]
    },
    {
      "cell_type": "code",
      "source": [
        "from sklearn.preprocessing import StandardScaler"
      ],
      "metadata": {
        "id": "ctwhGuD5EqZf"
      },
      "execution_count": null,
      "outputs": []
    },
    {
      "cell_type": "code",
      "source": [
        "#=cotacoes.drop(['Open', 'High','Low','Adj Close','Volume', ], axis=1)"
      ],
      "metadata": {
        "id": "r8z2kfjjIWbw"
      },
      "execution_count": null,
      "outputs": []
    },
    {
      "cell_type": "code",
      "source": [
        "cotacoes1"
      ],
      "metadata": {
        "colab": {
          "base_uri": "https://localhost:8080/",
          "height": 424
        },
        "id": "1MMSFU-VHnk_",
        "outputId": "b4045ca3-688a-4729-c6d6-90eb42870c0d"
      },
      "execution_count": null,
      "outputs": [
        {
          "output_type": "execute_result",
          "data": {
            "text/plain": [
              "           Date     Close     timestamp\n",
              "0    2022-06-28  100591.0  1.656374e+09\n",
              "1    2022-06-29   99622.0  1.656461e+09\n",
              "2    2022-06-30   98542.0  1.656547e+09\n",
              "3    2022-07-01   98954.0  1.656634e+09\n",
              "4    2022-07-04   98609.0  1.656893e+09\n",
              "..          ...       ...           ...\n",
              "122  2022-12-21  107313.0  1.671581e+09\n",
              "123  2022-12-22  107317.0  1.671667e+09\n",
              "124  2022-12-23  109698.0  1.671754e+09\n",
              "125  2022-12-26  108738.0  1.672013e+09\n",
              "126  2022-12-27  108347.0  1.672099e+09\n",
              "\n",
              "[127 rows x 3 columns]"
            ],
            "text/html": [
              "\n",
              "  <div id=\"df-775274bd-6021-4a30-b966-d4ece5a37866\">\n",
              "    <div class=\"colab-df-container\">\n",
              "      <div>\n",
              "<style scoped>\n",
              "    .dataframe tbody tr th:only-of-type {\n",
              "        vertical-align: middle;\n",
              "    }\n",
              "\n",
              "    .dataframe tbody tr th {\n",
              "        vertical-align: top;\n",
              "    }\n",
              "\n",
              "    .dataframe thead th {\n",
              "        text-align: right;\n",
              "    }\n",
              "</style>\n",
              "<table border=\"1\" class=\"dataframe\">\n",
              "  <thead>\n",
              "    <tr style=\"text-align: right;\">\n",
              "      <th></th>\n",
              "      <th>Date</th>\n",
              "      <th>Close</th>\n",
              "      <th>timestamp</th>\n",
              "    </tr>\n",
              "  </thead>\n",
              "  <tbody>\n",
              "    <tr>\n",
              "      <th>0</th>\n",
              "      <td>2022-06-28</td>\n",
              "      <td>100591.0</td>\n",
              "      <td>1.656374e+09</td>\n",
              "    </tr>\n",
              "    <tr>\n",
              "      <th>1</th>\n",
              "      <td>2022-06-29</td>\n",
              "      <td>99622.0</td>\n",
              "      <td>1.656461e+09</td>\n",
              "    </tr>\n",
              "    <tr>\n",
              "      <th>2</th>\n",
              "      <td>2022-06-30</td>\n",
              "      <td>98542.0</td>\n",
              "      <td>1.656547e+09</td>\n",
              "    </tr>\n",
              "    <tr>\n",
              "      <th>3</th>\n",
              "      <td>2022-07-01</td>\n",
              "      <td>98954.0</td>\n",
              "      <td>1.656634e+09</td>\n",
              "    </tr>\n",
              "    <tr>\n",
              "      <th>4</th>\n",
              "      <td>2022-07-04</td>\n",
              "      <td>98609.0</td>\n",
              "      <td>1.656893e+09</td>\n",
              "    </tr>\n",
              "    <tr>\n",
              "      <th>...</th>\n",
              "      <td>...</td>\n",
              "      <td>...</td>\n",
              "      <td>...</td>\n",
              "    </tr>\n",
              "    <tr>\n",
              "      <th>122</th>\n",
              "      <td>2022-12-21</td>\n",
              "      <td>107313.0</td>\n",
              "      <td>1.671581e+09</td>\n",
              "    </tr>\n",
              "    <tr>\n",
              "      <th>123</th>\n",
              "      <td>2022-12-22</td>\n",
              "      <td>107317.0</td>\n",
              "      <td>1.671667e+09</td>\n",
              "    </tr>\n",
              "    <tr>\n",
              "      <th>124</th>\n",
              "      <td>2022-12-23</td>\n",
              "      <td>109698.0</td>\n",
              "      <td>1.671754e+09</td>\n",
              "    </tr>\n",
              "    <tr>\n",
              "      <th>125</th>\n",
              "      <td>2022-12-26</td>\n",
              "      <td>108738.0</td>\n",
              "      <td>1.672013e+09</td>\n",
              "    </tr>\n",
              "    <tr>\n",
              "      <th>126</th>\n",
              "      <td>2022-12-27</td>\n",
              "      <td>108347.0</td>\n",
              "      <td>1.672099e+09</td>\n",
              "    </tr>\n",
              "  </tbody>\n",
              "</table>\n",
              "<p>127 rows × 3 columns</p>\n",
              "</div>\n",
              "      <button class=\"colab-df-convert\" onclick=\"convertToInteractive('df-775274bd-6021-4a30-b966-d4ece5a37866')\"\n",
              "              title=\"Convert this dataframe to an interactive table.\"\n",
              "              style=\"display:none;\">\n",
              "        \n",
              "  <svg xmlns=\"http://www.w3.org/2000/svg\" height=\"24px\"viewBox=\"0 0 24 24\"\n",
              "       width=\"24px\">\n",
              "    <path d=\"M0 0h24v24H0V0z\" fill=\"none\"/>\n",
              "    <path d=\"M18.56 5.44l.94 2.06.94-2.06 2.06-.94-2.06-.94-.94-2.06-.94 2.06-2.06.94zm-11 1L8.5 8.5l.94-2.06 2.06-.94-2.06-.94L8.5 2.5l-.94 2.06-2.06.94zm10 10l.94 2.06.94-2.06 2.06-.94-2.06-.94-.94-2.06-.94 2.06-2.06.94z\"/><path d=\"M17.41 7.96l-1.37-1.37c-.4-.4-.92-.59-1.43-.59-.52 0-1.04.2-1.43.59L10.3 9.45l-7.72 7.72c-.78.78-.78 2.05 0 2.83L4 21.41c.39.39.9.59 1.41.59.51 0 1.02-.2 1.41-.59l7.78-7.78 2.81-2.81c.8-.78.8-2.07 0-2.86zM5.41 20L4 18.59l7.72-7.72 1.47 1.35L5.41 20z\"/>\n",
              "  </svg>\n",
              "      </button>\n",
              "      \n",
              "  <style>\n",
              "    .colab-df-container {\n",
              "      display:flex;\n",
              "      flex-wrap:wrap;\n",
              "      gap: 12px;\n",
              "    }\n",
              "\n",
              "    .colab-df-convert {\n",
              "      background-color: #E8F0FE;\n",
              "      border: none;\n",
              "      border-radius: 50%;\n",
              "      cursor: pointer;\n",
              "      display: none;\n",
              "      fill: #1967D2;\n",
              "      height: 32px;\n",
              "      padding: 0 0 0 0;\n",
              "      width: 32px;\n",
              "    }\n",
              "\n",
              "    .colab-df-convert:hover {\n",
              "      background-color: #E2EBFA;\n",
              "      box-shadow: 0px 1px 2px rgba(60, 64, 67, 0.3), 0px 1px 3px 1px rgba(60, 64, 67, 0.15);\n",
              "      fill: #174EA6;\n",
              "    }\n",
              "\n",
              "    [theme=dark] .colab-df-convert {\n",
              "      background-color: #3B4455;\n",
              "      fill: #D2E3FC;\n",
              "    }\n",
              "\n",
              "    [theme=dark] .colab-df-convert:hover {\n",
              "      background-color: #434B5C;\n",
              "      box-shadow: 0px 1px 3px 1px rgba(0, 0, 0, 0.15);\n",
              "      filter: drop-shadow(0px 1px 2px rgba(0, 0, 0, 0.3));\n",
              "      fill: #FFFFFF;\n",
              "    }\n",
              "  </style>\n",
              "\n",
              "      <script>\n",
              "        const buttonEl =\n",
              "          document.querySelector('#df-775274bd-6021-4a30-b966-d4ece5a37866 button.colab-df-convert');\n",
              "        buttonEl.style.display =\n",
              "          google.colab.kernel.accessAllowed ? 'block' : 'none';\n",
              "\n",
              "        async function convertToInteractive(key) {\n",
              "          const element = document.querySelector('#df-775274bd-6021-4a30-b966-d4ece5a37866');\n",
              "          const dataTable =\n",
              "            await google.colab.kernel.invokeFunction('convertToInteractive',\n",
              "                                                     [key], {});\n",
              "          if (!dataTable) return;\n",
              "\n",
              "          const docLinkHtml = 'Like what you see? Visit the ' +\n",
              "            '<a target=\"_blank\" href=https://colab.research.google.com/notebooks/data_table.ipynb>data table notebook</a>'\n",
              "            + ' to learn more about interactive tables.';\n",
              "          element.innerHTML = '';\n",
              "          dataTable['output_type'] = 'display_data';\n",
              "          await google.colab.output.renderOutput(dataTable, element);\n",
              "          const docLink = document.createElement('div');\n",
              "          docLink.innerHTML = docLinkHtml;\n",
              "          element.appendChild(docLink);\n",
              "        }\n",
              "      </script>\n",
              "    </div>\n",
              "  </div>\n",
              "  "
            ]
          },
          "metadata": {},
          "execution_count": 16
        }
      ]
    },
    {
      "cell_type": "code",
      "source": [
        "cotacoes1=cotacoes1.drop(['Date'], axis=1)"
      ],
      "metadata": {
        "id": "SyNuXQDFJWqK"
      },
      "execution_count": null,
      "outputs": []
    },
    {
      "cell_type": "code",
      "source": [
        "#fazer o escalonamento dos dados para facilitar a interpretação pelo computador\n",
        "sc=StandardScaler()"
      ],
      "metadata": {
        "id": "NdO0iSJCEqb4"
      },
      "execution_count": null,
      "outputs": []
    },
    {
      "cell_type": "code",
      "source": [
        "sc.fit(cotacoes1)"
      ],
      "metadata": {
        "colab": {
          "base_uri": "https://localhost:8080/"
        },
        "id": "nFAvH3ZGGPNY",
        "outputId": "50050e68-2bf7-4880-9c93-30894b7e382f"
      },
      "execution_count": null,
      "outputs": [
        {
          "output_type": "execute_result",
          "data": {
            "text/plain": [
              "StandardScaler()"
            ]
          },
          "metadata": {},
          "execution_count": 19
        }
      ]
    },
    {
      "cell_type": "code",
      "source": [
        "dado_escalado=sc.transform(cotacoes1)"
      ],
      "metadata": {
        "id": "-GQel6V0GUM4"
      },
      "execution_count": null,
      "outputs": []
    },
    {
      "cell_type": "code",
      "source": [
        "x=dado_escalado[:,1]\n",
        "y=dado_escalado[:,0]"
      ],
      "metadata": {
        "id": "2CAo0xAfQBaV"
      },
      "execution_count": null,
      "outputs": []
    },
    {
      "cell_type": "code",
      "source": [
        "import matplotlib.pyplot as plt"
      ],
      "metadata": {
        "id": "Vb8wIfOCQDr1"
      },
      "execution_count": null,
      "outputs": []
    },
    {
      "cell_type": "code",
      "source": [
        "sns.lineplot(x=x,y=y, label='dado_escalado')\n",
        "plt.ylabel('cotacoes')\n",
        "plt.xlabel('data')"
      ],
      "metadata": {
        "colab": {
          "base_uri": "https://localhost:8080/",
          "height": 405
        },
        "id": "zUjxnBfAQFEs",
        "outputId": "c49d54a5-1e1f-4d85-8fb7-d8e75bcc3b52"
      },
      "execution_count": null,
      "outputs": [
        {
          "output_type": "execute_result",
          "data": {
            "text/plain": [
              "Text(0.5, 0, 'data')"
            ]
          },
          "metadata": {},
          "execution_count": 23
        },
        {
          "output_type": "display_data",
          "data": {
            "text/plain": [
              "<Figure size 720x432 with 1 Axes>"
            ],
            "image/png": "[encoded data removed]"
          },
          "metadata": {
            "needs_background": "light"
          }
        }
      ]
    },
    {
      "cell_type": "code",
      "source": [
        "tamanho_treino=int(len(cotacoes1)*0.9)\n",
        "tamanho_teste=len(cotacoes1)-tamanho_treino"
      ],
      "metadata": {
        "id": "-94tzGtnQIlp"
      },
      "execution_count": null,
      "outputs": []
    },
    {
      "cell_type": "code",
      "source": [
        "xtreino=x[0:tamanho_treino]\n",
        "ytreino=y[0:tamanho_treino]"
      ],
      "metadata": {
        "id": "3qktG8Ogn3kv"
      },
      "execution_count": null,
      "outputs": []
    },
    {
      "cell_type": "code",
      "source": [
        "xteste=x[tamanho_treino:len(cotacoes1)]\n",
        "yteste=y[tamanho_treino:len(cotacoes1)]"
      ],
      "metadata": {
        "id": "NIn0Kh-zn-bi"
      },
      "execution_count": null,
      "outputs": []
    },
    {
      "cell_type": "code",
      "source": [
        "sns.lineplot(x=xtreino, y=ytreino, label='treino')\n",
        "sns.lineplot(x=xteste, y=yteste, label='teste')\n",
        "plt.ylabel('cotacao')\n",
        "plt.xlabel('data')"
      ],
      "metadata": {
        "colab": {
          "base_uri": "https://localhost:8080/",
          "height": 405
        },
        "id": "nCiqut8gn_uH",
        "outputId": "f2fa9178-4d5b-47c7-cf46-5fb481b611f0"
      },
      "execution_count": null,
      "outputs": [
        {
          "output_type": "execute_result",
          "data": {
            "text/plain": [
              "Text(0.5, 0, 'data')"
            ]
          },
          "metadata": {},
          "execution_count": 27
        },
        {
          "output_type": "display_data",
          "data": {
            "text/plain": [
              "<Figure size 720x432 with 1 Axes>"
            ],
            "image/png": "[encoded data removed]"
          },
          "metadata": {
            "needs_background": "light"
          }
        }
      ]
    },
    {
      "cell_type": "code",
      "source": [
        "from tensorflow.keras.models import Sequential\n",
        "from tensorflow.keras.layers import Dense"
      ],
      "metadata": {
        "id": "tTgyuB3_n_wg"
      },
      "execution_count": null,
      "outputs": []
    },
    {
      "cell_type": "code",
      "source": [
        "regressor=Sequential()"
      ],
      "metadata": {
        "id": "Inem1eWdn_yo"
      },
      "execution_count": null,
      "outputs": []
    },
    {
      "cell_type": "code",
      "source": [
        "regressor.add(Dense(1,input_dim=1, kernel_initializer='Ones',activation='linear', use_bias=False))"
      ],
      "metadata": {
        "id": "wCQT3vbioS0i"
      },
      "execution_count": null,
      "outputs": []
    },
    {
      "cell_type": "code",
      "source": [
        "regressor.compile(loss='mean_squared_error', optimizer='adam')"
      ],
      "metadata": {
        "id": "eCaaW2JFoU_I"
      },
      "execution_count": null,
      "outputs": []
    },
    {
      "cell_type": "code",
      "source": [
        "regressor.summary()"
      ],
      "metadata": {
        "colab": {
          "base_uri": "https://localhost:8080/"
        },
        "id": "G-zGScjLoXB2",
        "outputId": "6d0e2251-e5a6-40ca-b64f-7df3ba98b58f"
      },
      "execution_count": null,
      "outputs": [
        {
          "output_type": "stream",
          "name": "stdout",
          "text": [
            "Model: \"sequential\"\n",
            "_________________________________________________________________\n",
            " Layer (type)                Output Shape              Param #   \n",
            "=================================================================\n",
            " dense (Dense)               (None, 1)                 1         \n",
            "                                                                 \n",
            "=================================================================\n",
            "Total params: 1\n",
            "Trainable params: 1\n",
            "Non-trainable params: 0\n",
            "_________________________________________________________________\n"
          ]
        }
      ]
    },
    {
      "cell_type": "code",
      "source": [
        "regressor.fit(xtreino, ytreino)"
      ],
      "metadata": {
        "colab": {
          "base_uri": "https://localhost:8080/"
        },
        "id": "NTKs4mgAober",
        "outputId": "d11aff28-ea18-4e8f-dc2a-6272cad554d9"
      },
      "execution_count": null,
      "outputs": [
        {
          "output_type": "stream",
          "name": "stdout",
          "text": [
            "4/4 [==============================] - 1s 3ms/step - loss: 0.6521\n"
          ]
        },
        {
          "output_type": "execute_result",
          "data": {
            "text/plain": [
              "<keras.callbacks.History at 0x7f966caea940>"
            ]
          },
          "metadata": {},
          "execution_count": 33
        }
      ]
    },
    {
      "cell_type": "code",
      "source": [
        "y_predict=regressor.predict(xtreino)"
      ],
      "metadata": {
        "colab": {
          "base_uri": "https://localhost:8080/"
        },
        "id": "ozIIrpMiofBj",
        "outputId": "90e9bd4b-1388-445d-c669-64e20335b416"
      },
      "execution_count": null,
      "outputs": [
        {
          "output_type": "stream",
          "name": "stdout",
          "text": [
            "4/4 [==============================] - 0s 3ms/step\n"
          ]
        }
      ]
    },
    {
      "cell_type": "code",
      "source": [
        "sns.lineplot(x=xtreino, y=ytreino, label='treino')\n",
        "sns.lineplot(x=xtreino, y=y_predict[:,0], label='ajuste_treino')"
      ],
      "metadata": {
        "colab": {
          "base_uri": "https://localhost:8080/",
          "height": 391
        },
        "id": "7vFP0eGPohfK",
        "outputId": "d8b45a87-3aca-48f4-9c0d-072801de1a6e"
      },
      "execution_count": null,
      "outputs": [
        {
          "output_type": "execute_result",
          "data": {
            "text/plain": [
              "<matplotlib.axes._subplots.AxesSubplot at 0x7f966ca4fd30>"
            ]
          },
          "metadata": {},
          "execution_count": 35
        },
        {
          "output_type": "display_data",
          "data": {
            "text/plain": [
              "<Figure size 720x432 with 1 Axes>"
            ],
            "image/png": "[encoded data removed]"
          },
          "metadata": {
            "needs_background": "light"
          }
        }
      ]
    },
    {
      "cell_type": "code",
      "source": [
        "#destrasnformar para ver os dados\n",
        "d={'tempo':xtreino, 'cotacoes':y_predict[:,0]}"
      ],
      "metadata": {
        "id": "Yp7GM0GTojFW"
      },
      "execution_count": null,
      "outputs": []
    },
    {
      "cell_type": "code",
      "source": [
        "resultados=pd.DataFrame(data=d)"
      ],
      "metadata": {
        "id": "8uAh7TdcquWx"
      },
      "execution_count": null,
      "outputs": []
    },
    {
      "cell_type": "code",
      "source": [
        "resultados"
      ],
      "metadata": {
        "colab": {
          "base_uri": "https://localhost:8080/",
          "height": 424
        },
        "id": "W25FqdZVquZb",
        "outputId": "03faf41d-fa7e-467e-f6f8-3efc1000328e"
      },
      "execution_count": null,
      "outputs": [
        {
          "output_type": "execute_result",
          "data": {
            "text/plain": [
              "        tempo  cotacoes\n",
              "0   -1.683043 -1.676675\n",
              "1   -1.664334 -1.658037\n",
              "2   -1.645625 -1.639399\n",
              "3   -1.626917 -1.620761\n",
              "4   -1.570791 -1.564848\n",
              "..        ...       ...\n",
              "109  1.254217  1.249472\n",
              "110  1.310343  1.305385\n",
              "111  1.329051  1.324023\n",
              "112  1.347760  1.342661\n",
              "113  1.366468  1.361299\n",
              "\n",
              "[114 rows x 2 columns]"
            ],
            "text/html": [
              "\n",
              "  <div id=\"df-c5edcd62-816f-4b3f-8f43-7bb106a00271\">\n",
              "    <div class=\"colab-df-container\">\n",
              "      <div>\n",
              "<style scoped>\n",
              "    .dataframe tbody tr th:only-of-type {\n",
              "        vertical-align: middle;\n",
              "    }\n",
              "\n",
              "    .dataframe tbody tr th {\n",
              "        vertical-align: top;\n",
              "    }\n",
              "\n",
              "    .dataframe thead th {\n",
              "        text-align: right;\n",
              "    }\n",
              "</style>\n",
              "<table border=\"1\" class=\"dataframe\">\n",
              "  <thead>\n",
              "    <tr style=\"text-align: right;\">\n",
              "      <th></th>\n",
              "      <th>tempo</th>\n",
              "      <th>cotacoes</th>\n",
              "    </tr>\n",
              "  </thead>\n",
              "  <tbody>\n",
              "    <tr>\n",
              "      <th>0</th>\n",
              "      <td>-1.683043</td>\n",
              "      <td>-1.676675</td>\n",
              "    </tr>\n",
              "    <tr>\n",
              "      <th>1</th>\n",
              "      <td>-1.664334</td>\n",
              "      <td>-1.658037</td>\n",
              "    </tr>\n",
              "    <tr>\n",
              "      <th>2</th>\n",
              "      <td>-1.645625</td>\n",
              "      <td>-1.639399</td>\n",
              "    </tr>\n",
              "    <tr>\n",
              "      <th>3</th>\n",
              "      <td>-1.626917</td>\n",
              "      <td>-1.620761</td>\n",
              "    </tr>\n",
              "    <tr>\n",
              "      <th>4</th>\n",
              "      <td>-1.570791</td>\n",
              "      <td>-1.564848</td>\n",
              "    </tr>\n",
              "    <tr>\n",
              "      <th>...</th>\n",
              "      <td>...</td>\n",
              "      <td>...</td>\n",
              "    </tr>\n",
              "    <tr>\n",
              "      <th>109</th>\n",
              "      <td>1.254217</td>\n",
              "      <td>1.249472</td>\n",
              "    </tr>\n",
              "    <tr>\n",
              "      <th>110</th>\n",
              "      <td>1.310343</td>\n",
              "      <td>1.305385</td>\n",
              "    </tr>\n",
              "    <tr>\n",
              "      <th>111</th>\n",
              "      <td>1.329051</td>\n",
              "      <td>1.324023</td>\n",
              "    </tr>\n",
              "    <tr>\n",
              "      <th>112</th>\n",
              "      <td>1.347760</td>\n",
              "      <td>1.342661</td>\n",
              "    </tr>\n",
              "    <tr>\n",
              "      <th>113</th>\n",
              "      <td>1.366468</td>\n",
              "      <td>1.361299</td>\n",
              "    </tr>\n",
              "  </tbody>\n",
              "</table>\n",
              "<p>114 rows × 2 columns</p>\n",
              "</div>\n",
              "      <button class=\"colab-df-convert\" onclick=\"convertToInteractive('df-c5edcd62-816f-4b3f-8f43-7bb106a00271')\"\n",
              "              title=\"Convert this dataframe to an interactive table.\"\n",
              "              style=\"display:none;\">\n",
              "        \n",
              "  <svg xmlns=\"http://www.w3.org/2000/svg\" height=\"24px\"viewBox=\"0 0 24 24\"\n",
              "       width=\"24px\">\n",
              "    <path d=\"M0 0h24v24H0V0z\" fill=\"none\"/>\n",
              "    <path d=\"M18.56 5.44l.94 2.06.94-2.06 2.06-.94-2.06-.94-.94-2.06-.94 2.06-2.06.94zm-11 1L8.5 8.5l.94-2.06 2.06-.94-2.06-.94L8.5 2.5l-.94 2.06-2.06.94zm10 10l.94 2.06.94-2.06 2.06-.94-2.06-.94-.94-2.06-.94 2.06-2.06.94z\"/><path d=\"M17.41 7.96l-1.37-1.37c-.4-.4-.92-.59-1.43-.59-.52 0-1.04.2-1.43.59L10.3 9.45l-7.72 7.72c-.78.78-.78 2.05 0 2.83L4 21.41c.39.39.9.59 1.41.59.51 0 1.02-.2 1.41-.59l7.78-7.78 2.81-2.81c.8-.78.8-2.07 0-2.86zM5.41 20L4 18.59l7.72-7.72 1.47 1.35L5.41 20z\"/>\n",
              "  </svg>\n",
              "      </button>\n",
              "      \n",
              "  <style>\n",
              "    .colab-df-container {\n",
              "      display:flex;\n",
              "      flex-wrap:wrap;\n",
              "      gap: 12px;\n",
              "    }\n",
              "\n",
              "    .colab-df-convert {\n",
              "      background-color: #E8F0FE;\n",
              "      border: none;\n",
              "      border-radius: 50%;\n",
              "      cursor: pointer;\n",
              "      display: none;\n",
              "      fill: #1967D2;\n",
              "      height: 32px;\n",
              "      padding: 0 0 0 0;\n",
              "      width: 32px;\n",
              "    }\n",
              "\n",
              "    .colab-df-convert:hover {\n",
              "      background-color: #E2EBFA;\n",
              "      box-shadow: 0px 1px 2px rgba(60, 64, 67, 0.3), 0px 1px 3px 1px rgba(60, 64, 67, 0.15);\n",
              "      fill: #174EA6;\n",
              "    }\n",
              "\n",
              "    [theme=dark] .colab-df-convert {\n",
              "      background-color: #3B4455;\n",
              "      fill: #D2E3FC;\n",
              "    }\n",
              "\n",
              "    [theme=dark] .colab-df-convert:hover {\n",
              "      background-color: #434B5C;\n",
              "      box-shadow: 0px 1px 3px 1px rgba(0, 0, 0, 0.15);\n",
              "      filter: drop-shadow(0px 1px 2px rgba(0, 0, 0, 0.3));\n",
              "      fill: #FFFFFF;\n",
              "    }\n",
              "  </style>\n",
              "\n",
              "      <script>\n",
              "        const buttonEl =\n",
              "          document.querySelector('#df-c5edcd62-816f-4b3f-8f43-7bb106a00271 button.colab-df-convert');\n",
              "        buttonEl.style.display =\n",
              "          google.colab.kernel.accessAllowed ? 'block' : 'none';\n",
              "\n",
              "        async function convertToInteractive(key) {\n",
              "          const element = document.querySelector('#df-c5edcd62-816f-4b3f-8f43-7bb106a00271');\n",
              "          const dataTable =\n",
              "            await google.colab.kernel.invokeFunction('convertToInteractive',\n",
              "                                                     [key], {});\n",
              "          if (!dataTable) return;\n",
              "\n",
              "          const docLinkHtml = 'Like what you see? Visit the ' +\n",
              "            '<a target=\"_blank\" href=https://colab.research.google.com/notebooks/data_table.ipynb>data table notebook</a>'\n",
              "            + ' to learn more about interactive tables.';\n",
              "          element.innerHTML = '';\n",
              "          dataTable['output_type'] = 'display_data';\n",
              "          await google.colab.output.renderOutput(dataTable, element);\n",
              "          const docLink = document.createElement('div');\n",
              "          docLink.innerHTML = docLinkHtml;\n",
              "          element.appendChild(docLink);\n",
              "        }\n",
              "      </script>\n",
              "    </div>\n",
              "  </div>\n",
              "  "
            ]
          },
          "metadata": {},
          "execution_count": 38
        }
      ]
    },
    {
      "cell_type": "code",
      "source": [
        "resultado_transf=sc.inverse_transform(resultados)"
      ],
      "metadata": {
        "id": "u0BPmGlPqucB"
      },
      "execution_count": null,
      "outputs": []
    },
    {
      "cell_type": "code",
      "source": [
        "resultado_transf=pd.DataFrame(resultado_transf)"
      ],
      "metadata": {
        "id": "vnhxYhvKqueX"
      },
      "execution_count": null,
      "outputs": []
    },
    {
      "cell_type": "code",
      "source": [
        "resultado_transf.columns=['cotacoes', 'tempo']"
      ],
      "metadata": {
        "id": "3zXhY9DUqugs"
      },
      "execution_count": null,
      "outputs": []
    },
    {
      "cell_type": "code",
      "source": [
        "sns.lineplot(x='timestamp', y='Close', data=cotacoes1, label='dado_completo')\n",
        "sns.lineplot(x='tempo', y='cotacoes', data=resultado_transf, label='ajuste_treino')"
      ],
      "metadata": {
        "colab": {
          "base_uri": "https://localhost:8080/",
          "height": 405
        },
        "id": "nriBn-RUrGvK",
        "outputId": "096e5f56-726d-4313-cfbf-2c353a5923fd"
      },
      "execution_count": null,
      "outputs": [
        {
          "output_type": "execute_result",
          "data": {
            "text/plain": [
              "<matplotlib.axes._subplots.AxesSubplot at 0x7f966ca30400>"
            ]
          },
          "metadata": {},
          "execution_count": 42
        },
        {
          "output_type": "display_data",
          "data": {
            "text/plain": [
              "<Figure size 720x432 with 1 Axes>"
            ],
            "image/png": "[encoded data removed]"
          },
          "metadata": {
            "needs_background": "light"
          }
        }
      ]
    },
    {
      "cell_type": "code",
      "source": [
        "y_predict_teste=regressor.predict(xteste)"
      ],
      "metadata": {
        "colab": {
          "base_uri": "https://localhost:8080/"
        },
        "id": "KRl33KBMrMiF",
        "outputId": "d70897e9-464d-4269-a882-0a5ff56c83cf"
      },
      "execution_count": null,
      "outputs": [
        {
          "output_type": "stream",
          "name": "stdout",
          "text": [
            "1/1 [==============================] - 0s 20ms/step\n"
          ]
        }
      ]
    },
    {
      "cell_type": "code",
      "source": [
        "d={'tempo':xteste, 'cotacoes':y_predict_teste[:,0]}\n",
        "resultados_teste=pd.DataFrame(data=d)"
      ],
      "metadata": {
        "id": "4YamlNu4tmSY"
      },
      "execution_count": null,
      "outputs": []
    },
    {
      "cell_type": "code",
      "source": [
        "resultado_transf_teste=sc.inverse_transform(resultados_teste)"
      ],
      "metadata": {
        "id": "JfQmv9o6trB8"
      },
      "execution_count": null,
      "outputs": []
    },
    {
      "cell_type": "code",
      "source": [
        "resultado_transf_teste=pd.DataFrame(resultado_transf_teste) "
      ],
      "metadata": {
        "id": "Mql1Im-nttS7"
      },
      "execution_count": null,
      "outputs": []
    },
    {
      "cell_type": "code",
      "source": [
        "resultado_transf_teste.columns=['cotacoes','tempo']"
      ],
      "metadata": {
        "id": "G9R8Ng-Stvef"
      },
      "execution_count": null,
      "outputs": []
    },
    {
      "cell_type": "code",
      "source": [
        "sns.lineplot(x='timestamp', y='Close', data=cotacoes1, label='dado_completo')\n",
        "sns.lineplot(x='tempo', y='cotacoes', data=resultado_transf, label='ajuste_treino')\n",
        "sns.lineplot(x='tempo', y='cotacoes', data=resultado_transf_teste, label='previsao')"
      ],
      "metadata": {
        "colab": {
          "base_uri": "https://localhost:8080/",
          "height": 405
        },
        "id": "C5DbqcZdt0EA",
        "outputId": "ba6ceff7-7d87-4bc8-9707-f418a93ddd58"
      },
      "execution_count": null,
      "outputs": [
        {
          "output_type": "execute_result",
          "data": {
            "text/plain": [
              "<matplotlib.axes._subplots.AxesSubplot at 0x7f966c99ee50>"
            ]
          },
          "metadata": {},
          "execution_count": 48
        },
        {
          "output_type": "display_data",
          "data": {
            "text/plain": [
              "<Figure size 720x432 with 1 Axes>"
            ],
            "image/png": "[encoded data removed]"
          },
          "metadata": {
            "needs_background": "light"
          }
        }
      ]
    },
    {
      "cell_type": "code",
      "source": [
        "regressor2=Sequential()"
      ],
      "metadata": {
        "id": "QCpoCDGft6IJ"
      },
      "execution_count": null,
      "outputs": []
    },
    {
      "cell_type": "code",
      "source": [
        "#adicionando camadas\n",
        "regressor2.add(Dense(8, input_dim=1, kernel_initializer='random_uniform', activation='sigmoid', use_bias=False))\n",
        "regressor2.add(Dense(8, kernel_initializer='random_uniform', activation='sigmoid', use_bias=False))\n",
        "regressor2.add(Dense(1, kernel_initializer='random_uniform', activation='linear', use_bias=False))"
      ],
      "metadata": {
        "id": "8zxCy0N7xc7J"
      },
      "execution_count": null,
      "outputs": []
    },
    {
      "cell_type": "code",
      "source": [
        "regressor2.compile(loss='mean_squared_error', optimizer='adam')"
      ],
      "metadata": {
        "id": "K7xtYEO9xc9m"
      },
      "execution_count": null,
      "outputs": []
    },
    {
      "cell_type": "code",
      "source": [
        "regressor2.summary()"
      ],
      "metadata": {
        "colab": {
          "base_uri": "https://localhost:8080/"
        },
        "id": "XcYQhCXnxdAY",
        "outputId": "a6d9babf-ec89-4dad-9a1e-16ab4f44c2bb"
      },
      "execution_count": null,
      "outputs": [
        {
          "output_type": "stream",
          "name": "stdout",
          "text": [
            "Model: \"sequential_2\"\n",
            "_________________________________________________________________\n",
            " Layer (type)                Output Shape              Param #   \n",
            "=================================================================\n",
            " dense_2 (Dense)             (None, 8)                 8         \n",
            "                                                                 \n",
            " dense_3 (Dense)             (None, 8)                 64        \n",
            "                                                                 \n",
            " dense_4 (Dense)             (None, 1)                 8         \n",
            "                                                                 \n",
            "=================================================================\n",
            "Total params: 80\n",
            "Trainable params: 80\n",
            "Non-trainable params: 0\n",
            "_________________________________________________________________\n"
          ]
        }
      ]
    },
    {
      "cell_type": "code",
      "source": [
        "regressor2.fit(xtreino, ytreino, epochs=500)"
      ],
      "metadata": {
        "colab": {
          "base_uri": "https://localhost:8080/"
        },
        "id": "eicttPIrxdC7",
        "outputId": "faad7c71-e3fb-4ba3-eb34-99bfa19303e8"
      },
      "execution_count": null,
      "outputs": [
        {
          "output_type": "stream",
          "name": "stdout",
          "text": [
            "Epoch 1/500\n",
            "4/4 [==============================] - 1s 5ms/step - loss: 1.0728\n",
            "Epoch 2/500\n",
            "4/4 [==============================] - 0s 5ms/step - loss: 1.0721\n",
            "Epoch 3/500\n",
            "4/4 [==============================] - 0s 6ms/step - loss: 1.0716\n",
            "Epoch 4/500\n",
            "4/4 [==============================] - 0s 5ms/step - loss: 1.0713\n",
            "Epoch 5/500\n",
            "4/4 [==============================] - 0s 6ms/step - loss: 1.0714\n",
            "Epoch 6/500\n",
            "4/4 [==============================] - 0s 6ms/step - loss: 1.0708\n",
            "Epoch 7/500\n",
            "4/4 [==============================] - 0s 7ms/step - loss: 1.0709\n",
            "Epoch 8/500\n",
            "4/4 [==============================] - 0s 5ms/step - loss: 1.0708\n",
            "Epoch 9/500\n",
            "4/4 [==============================] - 0s 5ms/step - loss: 1.0707\n",
            "Epoch 10/500\n",
            "4/4 [==============================] - 0s 5ms/step - loss: 1.0705\n",
            "Epoch 11/500\n",
            "4/4 [==============================] - 0s 7ms/step - loss: 1.0704\n",
            "Epoch 12/500\n",
            "4/4 [==============================] - 0s 6ms/step - loss: 1.0704\n",
            "Epoch 13/500\n",
            "4/4 [==============================] - 0s 6ms/step - loss: 1.0704\n",
            "Epoch 14/500\n",
            "4/4 [==============================] - 0s 6ms/step - loss: 1.0704\n",
            "Epoch 15/500\n",
            "4/4 [==============================] - 0s 6ms/step - loss: 1.0704\n",
            "Epoch 16/500\n",
            "4/4 [==============================] - 0s 6ms/step - loss: 1.0704\n",
            "Epoch 17/500\n",
            "4/4 [==============================] - 0s 5ms/step - loss: 1.0703\n",
            "Epoch 18/500\n",
            "4/4 [==============================] - 0s 6ms/step - loss: 1.0703\n",
            "Epoch 19/500\n",
            "4/4 [==============================] - 0s 8ms/step - loss: 1.0702\n",
            "Epoch 20/500\n",
            "4/4 [==============================] - 0s 4ms/step - loss: 1.0702\n",
            "Epoch 21/500\n",
            "4/4 [==============================] - 0s 7ms/step - loss: 1.0703\n",
            "Epoch 22/500\n",
            "4/4 [==============================] - 0s 7ms/step - loss: 1.0703\n",
            "Epoch 23/500\n",
            "4/4 [==============================] - 0s 8ms/step - loss: 1.0704\n",
            "Epoch 24/500\n",
            "4/4 [==============================] - 0s 5ms/step - loss: 1.0706\n",
            "Epoch 25/500\n",
            "4/4 [==============================] - 0s 9ms/step - loss: 1.0702\n",
            "Epoch 26/500\n",
            "4/4 [==============================] - 0s 7ms/step - loss: 1.0703\n",
            "Epoch 27/500\n",
            "4/4 [==============================] - 0s 6ms/step - loss: 1.0701\n",
            "Epoch 28/500\n",
            "4/4 [==============================] - 0s 9ms/step - loss: 1.0703\n",
            "Epoch 29/500\n",
            "4/4 [==============================] - 0s 6ms/step - loss: 1.0701\n",
            "Epoch 30/500\n",
            "4/4 [==============================] - 0s 7ms/step - loss: 1.0701\n",
            "Epoch 31/500\n",
            "4/4 [==============================] - 0s 6ms/step - loss: 1.0700\n",
            "Epoch 32/500\n",
            "4/4 [==============================] - 0s 6ms/step - loss: 1.0700\n",
            "Epoch 33/500\n",
            "4/4 [==============================] - 0s 6ms/step - loss: 1.0700\n",
            "Epoch 34/500\n",
            "4/4 [==============================] - 0s 6ms/step - loss: 1.0699\n",
            "Epoch 35/500\n",
            "4/4 [==============================] - 0s 7ms/step - loss: 1.0699\n",
            "Epoch 36/500\n",
            "4/4 [==============================] - 0s 10ms/step - loss: 1.0698\n",
            "Epoch 37/500\n",
            "4/4 [==============================] - 0s 6ms/step - loss: 1.0698\n",
            "Epoch 38/500\n",
            "4/4 [==============================] - 0s 6ms/step - loss: 1.0698\n",
            "Epoch 39/500\n",
            "4/4 [==============================] - 0s 5ms/step - loss: 1.0698\n",
            "Epoch 40/500\n",
            "4/4 [==============================] - 0s 6ms/step - loss: 1.0698\n",
            "Epoch 41/500\n",
            "4/4 [==============================] - 0s 6ms/step - loss: 1.0697\n",
            "Epoch 42/500\n",
            "4/4 [==============================] - 0s 15ms/step - loss: 1.0697\n",
            "Epoch 43/500\n",
            "4/4 [==============================] - 0s 7ms/step - loss: 1.0696\n",
            "Epoch 44/500\n",
            "4/4 [==============================] - 0s 7ms/step - loss: 1.0699\n",
            "Epoch 45/500\n",
            "4/4 [==============================] - 0s 4ms/step - loss: 1.0693\n",
            "Epoch 46/500\n",
            "4/4 [==============================] - 0s 9ms/step - loss: 1.0695\n",
            "Epoch 47/500\n",
            "4/4 [==============================] - 0s 5ms/step - loss: 1.0692\n",
            "Epoch 48/500\n",
            "4/4 [==============================] - 0s 5ms/step - loss: 1.0696\n",
            "Epoch 49/500\n",
            "4/4 [==============================] - 0s 5ms/step - loss: 1.0692\n",
            "Epoch 50/500\n",
            "4/4 [==============================] - 0s 4ms/step - loss: 1.0692\n",
            "Epoch 51/500\n",
            "4/4 [==============================] - 0s 4ms/step - loss: 1.0691\n",
            "Epoch 52/500\n",
            "4/4 [==============================] - 0s 4ms/step - loss: 1.0690\n",
            "Epoch 53/500\n",
            "4/4 [==============================] - 0s 4ms/step - loss: 1.0692\n",
            "Epoch 54/500\n",
            "4/4 [==============================] - 0s 5ms/step - loss: 1.0688\n",
            "Epoch 55/500\n",
            "4/4 [==============================] - 0s 4ms/step - loss: 1.0688\n",
            "Epoch 56/500\n",
            "4/4 [==============================] - 0s 4ms/step - loss: 1.0686\n",
            "Epoch 57/500\n",
            "4/4 [==============================] - 0s 6ms/step - loss: 1.0685\n",
            "Epoch 58/500\n",
            "4/4 [==============================] - 0s 4ms/step - loss: 1.0684\n",
            "Epoch 59/500\n",
            "4/4 [==============================] - 0s 4ms/step - loss: 1.0684\n",
            "Epoch 60/500\n",
            "4/4 [==============================] - 0s 4ms/step - loss: 1.0683\n",
            "Epoch 61/500\n",
            "4/4 [==============================] - 0s 4ms/step - loss: 1.0681\n",
            "Epoch 62/500\n",
            "4/4 [==============================] - 0s 4ms/step - loss: 1.0681\n",
            "Epoch 63/500\n",
            "4/4 [==============================] - 0s 5ms/step - loss: 1.0680\n",
            "Epoch 64/500\n",
            "4/4 [==============================] - 0s 5ms/step - loss: 1.0678\n",
            "Epoch 65/500\n",
            "4/4 [==============================] - 0s 5ms/step - loss: 1.0677\n",
            "Epoch 66/500\n",
            "4/4 [==============================] - 0s 5ms/step - loss: 1.0674\n",
            "Epoch 67/500\n",
            "4/4 [==============================] - 0s 5ms/step - loss: 1.0675\n",
            "Epoch 68/500\n",
            "4/4 [==============================] - 0s 5ms/step - loss: 1.0669\n",
            "Epoch 69/500\n",
            "4/4 [==============================] - 0s 5ms/step - loss: 1.0667\n",
            "Epoch 70/500\n",
            "4/4 [==============================] - 0s 5ms/step - loss: 1.0664\n",
            "Epoch 71/500\n",
            "4/4 [==============================] - 0s 4ms/step - loss: 1.0663\n",
            "Epoch 72/500\n",
            "4/4 [==============================] - 0s 5ms/step - loss: 1.0659\n",
            "Epoch 73/500\n",
            "4/4 [==============================] - 0s 4ms/step - loss: 1.0656\n",
            "Epoch 74/500\n",
            "4/4 [==============================] - 0s 4ms/step - loss: 1.0655\n",
            "Epoch 75/500\n",
            "4/4 [==============================] - 0s 4ms/step - loss: 1.0650\n",
            "Epoch 76/500\n",
            "4/4 [==============================] - 0s 4ms/step - loss: 1.0646\n",
            "Epoch 77/500\n",
            "4/4 [==============================] - 0s 5ms/step - loss: 1.0642\n",
            "Epoch 78/500\n",
            "4/4 [==============================] - 0s 4ms/step - loss: 1.0641\n",
            "Epoch 79/500\n",
            "4/4 [==============================] - 0s 5ms/step - loss: 1.0635\n",
            "Epoch 80/500\n",
            "4/4 [==============================] - 0s 4ms/step - loss: 1.0630\n",
            "Epoch 81/500\n",
            "4/4 [==============================] - 0s 4ms/step - loss: 1.0628\n",
            "Epoch 82/500\n",
            "4/4 [==============================] - 0s 5ms/step - loss: 1.0620\n",
            "Epoch 83/500\n",
            "4/4 [==============================] - 0s 4ms/step - loss: 1.0617\n",
            "Epoch 84/500\n",
            "4/4 [==============================] - 0s 4ms/step - loss: 1.0608\n",
            "Epoch 85/500\n",
            "4/4 [==============================] - 0s 5ms/step - loss: 1.0603\n",
            "Epoch 86/500\n",
            "4/4 [==============================] - 0s 5ms/step - loss: 1.0596\n",
            "Epoch 87/500\n",
            "4/4 [==============================] - 0s 4ms/step - loss: 1.0588\n",
            "Epoch 88/500\n",
            "4/4 [==============================] - 0s 5ms/step - loss: 1.0582\n",
            "Epoch 89/500\n",
            "4/4 [==============================] - 0s 5ms/step - loss: 1.0572\n",
            "Epoch 90/500\n",
            "4/4 [==============================] - 0s 4ms/step - loss: 1.0563\n",
            "Epoch 91/500\n",
            "4/4 [==============================] - 0s 4ms/step - loss: 1.0553\n",
            "Epoch 92/500\n",
            "4/4 [==============================] - 0s 4ms/step - loss: 1.0544\n",
            "Epoch 93/500\n",
            "4/4 [==============================] - 0s 4ms/step - loss: 1.0532\n",
            "Epoch 94/500\n",
            "4/4 [==============================] - 0s 4ms/step - loss: 1.0520\n",
            "Epoch 95/500\n",
            "4/4 [==============================] - 0s 4ms/step - loss: 1.0507\n",
            "Epoch 96/500\n",
            "4/4 [==============================] - 0s 5ms/step - loss: 1.0491\n",
            "Epoch 97/500\n",
            "4/4 [==============================] - 0s 5ms/step - loss: 1.0477\n",
            "Epoch 98/500\n",
            "4/4 [==============================] - 0s 4ms/step - loss: 1.0460\n",
            "Epoch 99/500\n",
            "4/4 [==============================] - 0s 4ms/step - loss: 1.0443\n",
            "Epoch 100/500\n",
            "4/4 [==============================] - 0s 7ms/step - loss: 1.0424\n",
            "Epoch 101/500\n",
            "4/4 [==============================] - 0s 4ms/step - loss: 1.0405\n",
            "Epoch 102/500\n",
            "4/4 [==============================] - 0s 4ms/step - loss: 1.0384\n",
            "Epoch 103/500\n",
            "4/4 [==============================] - 0s 7ms/step - loss: 1.0363\n",
            "Epoch 104/500\n",
            "4/4 [==============================] - 0s 5ms/step - loss: 1.0338\n",
            "Epoch 105/500\n",
            "4/4 [==============================] - 0s 5ms/step - loss: 1.0314\n",
            "Epoch 106/500\n",
            "4/4 [==============================] - 0s 5ms/step - loss: 1.0285\n",
            "Epoch 107/500\n",
            "4/4 [==============================] - 0s 5ms/step - loss: 1.0262\n",
            "Epoch 108/500\n",
            "4/4 [==============================] - 0s 4ms/step - loss: 1.0228\n",
            "Epoch 109/500\n",
            "4/4 [==============================] - 0s 5ms/step - loss: 1.0198\n",
            "Epoch 110/500\n",
            "4/4 [==============================] - 0s 5ms/step - loss: 1.0165\n",
            "Epoch 111/500\n",
            "4/4 [==============================] - 0s 4ms/step - loss: 1.0135\n",
            "Epoch 112/500\n",
            "4/4 [==============================] - 0s 5ms/step - loss: 1.0095\n",
            "Epoch 113/500\n",
            "4/4 [==============================] - 0s 5ms/step - loss: 1.0058\n",
            "Epoch 114/500\n",
            "4/4 [==============================] - 0s 4ms/step - loss: 1.0021\n",
            "Epoch 115/500\n",
            "4/4 [==============================] - 0s 5ms/step - loss: 0.9981\n",
            "Epoch 116/500\n",
            "4/4 [==============================] - 0s 4ms/step - loss: 0.9935\n",
            "Epoch 117/500\n",
            "4/4 [==============================] - 0s 5ms/step - loss: 0.9893\n",
            "Epoch 118/500\n",
            "4/4 [==============================] - 0s 4ms/step - loss: 0.9845\n",
            "Epoch 119/500\n",
            "4/4 [==============================] - 0s 5ms/step - loss: 0.9799\n",
            "Epoch 120/500\n",
            "4/4 [==============================] - 0s 4ms/step - loss: 0.9746\n",
            "Epoch 121/500\n",
            "4/4 [==============================] - 0s 4ms/step - loss: 0.9694\n",
            "Epoch 122/500\n",
            "4/4 [==============================] - 0s 4ms/step - loss: 0.9639\n",
            "Epoch 123/500\n",
            "4/4 [==============================] - 0s 4ms/step - loss: 0.9583\n",
            "Epoch 124/500\n",
            "4/4 [==============================] - 0s 4ms/step - loss: 0.9523\n",
            "Epoch 125/500\n",
            "4/4 [==============================] - 0s 4ms/step - loss: 0.9471\n",
            "Epoch 126/500\n",
            "4/4 [==============================] - 0s 5ms/step - loss: 0.9404\n",
            "Epoch 127/500\n",
            "4/4 [==============================] - 0s 6ms/step - loss: 0.9340\n",
            "Epoch 128/500\n",
            "4/4 [==============================] - 0s 5ms/step - loss: 0.9282\n",
            "Epoch 129/500\n",
            "4/4 [==============================] - 0s 5ms/step - loss: 0.9215\n",
            "Epoch 130/500\n",
            "4/4 [==============================] - 0s 4ms/step - loss: 0.9147\n",
            "Epoch 131/500\n",
            "4/4 [==============================] - 0s 4ms/step - loss: 0.9078\n",
            "Epoch 132/500\n",
            "4/4 [==============================] - 0s 4ms/step - loss: 0.9019\n",
            "Epoch 133/500\n",
            "4/4 [==============================] - 0s 4ms/step - loss: 0.8947\n",
            "Epoch 134/500\n",
            "4/4 [==============================] - 0s 4ms/step - loss: 0.8875\n",
            "Epoch 135/500\n",
            "4/4 [==============================] - 0s 4ms/step - loss: 0.8809\n",
            "Epoch 136/500\n",
            "4/4 [==============================] - 0s 4ms/step - loss: 0.8736\n",
            "Epoch 137/500\n",
            "4/4 [==============================] - 0s 4ms/step - loss: 0.8667\n",
            "Epoch 138/500\n",
            "4/4 [==============================] - 0s 6ms/step - loss: 0.8592\n",
            "Epoch 139/500\n",
            "4/4 [==============================] - 0s 4ms/step - loss: 0.8518\n",
            "Epoch 140/500\n",
            "4/4 [==============================] - 0s 6ms/step - loss: 0.8450\n",
            "Epoch 141/500\n",
            "4/4 [==============================] - 0s 5ms/step - loss: 0.8379\n",
            "Epoch 142/500\n",
            "4/4 [==============================] - 0s 4ms/step - loss: 0.8308\n",
            "Epoch 143/500\n",
            "4/4 [==============================] - 0s 4ms/step - loss: 0.8235\n",
            "Epoch 144/500\n",
            "4/4 [==============================] - 0s 5ms/step - loss: 0.8168\n",
            "Epoch 145/500\n",
            "4/4 [==============================] - 0s 5ms/step - loss: 0.8100\n",
            "Epoch 146/500\n",
            "4/4 [==============================] - 0s 4ms/step - loss: 0.8029\n",
            "Epoch 147/500\n",
            "4/4 [==============================] - 0s 5ms/step - loss: 0.7963\n",
            "Epoch 148/500\n",
            "4/4 [==============================] - 0s 4ms/step - loss: 0.7890\n",
            "Epoch 149/500\n",
            "4/4 [==============================] - 0s 4ms/step - loss: 0.7831\n",
            "Epoch 150/500\n",
            "4/4 [==============================] - 0s 4ms/step - loss: 0.7762\n",
            "Epoch 151/500\n",
            "4/4 [==============================] - 0s 4ms/step - loss: 0.7708\n",
            "Epoch 152/500\n",
            "4/4 [==============================] - 0s 4ms/step - loss: 0.7642\n",
            "Epoch 153/500\n",
            "4/4 [==============================] - 0s 4ms/step - loss: 0.7578\n",
            "Epoch 154/500\n",
            "4/4 [==============================] - 0s 4ms/step - loss: 0.7520\n",
            "Epoch 155/500\n",
            "4/4 [==============================] - 0s 4ms/step - loss: 0.7459\n",
            "Epoch 156/500\n",
            "4/4 [==============================] - 0s 4ms/step - loss: 0.7405\n",
            "Epoch 157/500\n",
            "4/4 [==============================] - 0s 4ms/step - loss: 0.7349\n",
            "Epoch 158/500\n",
            "4/4 [==============================] - 0s 6ms/step - loss: 0.7298\n",
            "Epoch 159/500\n",
            "4/4 [==============================] - 0s 5ms/step - loss: 0.7241\n",
            "Epoch 160/500\n",
            "4/4 [==============================] - 0s 5ms/step - loss: 0.7190\n",
            "Epoch 161/500\n",
            "4/4 [==============================] - 0s 4ms/step - loss: 0.7143\n",
            "Epoch 162/500\n",
            "4/4 [==============================] - 0s 6ms/step - loss: 0.7094\n",
            "Epoch 163/500\n",
            "4/4 [==============================] - 0s 4ms/step - loss: 0.7048\n",
            "Epoch 164/500\n",
            "4/4 [==============================] - 0s 4ms/step - loss: 0.7001\n",
            "Epoch 165/500\n",
            "4/4 [==============================] - 0s 4ms/step - loss: 0.6955\n",
            "Epoch 166/500\n",
            "4/4 [==============================] - 0s 4ms/step - loss: 0.6912\n",
            "Epoch 167/500\n",
            "4/4 [==============================] - 0s 4ms/step - loss: 0.6864\n",
            "Epoch 168/500\n",
            "4/4 [==============================] - 0s 4ms/step - loss: 0.6828\n",
            "Epoch 169/500\n",
            "4/4 [==============================] - 0s 4ms/step - loss: 0.6784\n",
            "Epoch 170/500\n",
            "4/4 [==============================] - 0s 4ms/step - loss: 0.6747\n",
            "Epoch 171/500\n",
            "4/4 [==============================] - 0s 4ms/step - loss: 0.6709\n",
            "Epoch 172/500\n",
            "4/4 [==============================] - 0s 4ms/step - loss: 0.6668\n",
            "Epoch 173/500\n",
            "4/4 [==============================] - 0s 4ms/step - loss: 0.6637\n",
            "Epoch 174/500\n",
            "4/4 [==============================] - 0s 4ms/step - loss: 0.6601\n",
            "Epoch 175/500\n",
            "4/4 [==============================] - 0s 4ms/step - loss: 0.6564\n",
            "Epoch 176/500\n",
            "4/4 [==============================] - 0s 4ms/step - loss: 0.6536\n",
            "Epoch 177/500\n",
            "4/4 [==============================] - 0s 4ms/step - loss: 0.6506\n",
            "Epoch 178/500\n",
            "4/4 [==============================] - 0s 5ms/step - loss: 0.6474\n",
            "Epoch 179/500\n",
            "4/4 [==============================] - 0s 4ms/step - loss: 0.6443\n",
            "Epoch 180/500\n",
            "4/4 [==============================] - 0s 5ms/step - loss: 0.6411\n",
            "Epoch 181/500\n",
            "4/4 [==============================] - 0s 4ms/step - loss: 0.6385\n",
            "Epoch 182/500\n",
            "4/4 [==============================] - 0s 5ms/step - loss: 0.6357\n",
            "Epoch 183/500\n",
            "4/4 [==============================] - 0s 3ms/step - loss: 0.6332\n",
            "Epoch 184/500\n",
            "4/4 [==============================] - 0s 4ms/step - loss: 0.6304\n",
            "Epoch 185/500\n",
            "4/4 [==============================] - 0s 3ms/step - loss: 0.6280\n",
            "Epoch 186/500\n",
            "4/4 [==============================] - 0s 5ms/step - loss: 0.6254\n",
            "Epoch 187/500\n",
            "4/4 [==============================] - 0s 4ms/step - loss: 0.6229\n",
            "Epoch 188/500\n",
            "4/4 [==============================] - 0s 6ms/step - loss: 0.6204\n",
            "Epoch 189/500\n",
            "4/4 [==============================] - 0s 5ms/step - loss: 0.6178\n",
            "Epoch 190/500\n",
            "4/4 [==============================] - 0s 3ms/step - loss: 0.6156\n",
            "Epoch 191/500\n",
            "4/4 [==============================] - 0s 4ms/step - loss: 0.6130\n",
            "Epoch 192/500\n",
            "4/4 [==============================] - 0s 4ms/step - loss: 0.6108\n",
            "Epoch 193/500\n",
            "4/4 [==============================] - 0s 4ms/step - loss: 0.6085\n",
            "Epoch 194/500\n",
            "4/4 [==============================] - 0s 5ms/step - loss: 0.6063\n",
            "Epoch 195/500\n",
            "4/4 [==============================] - 0s 4ms/step - loss: 0.6041\n",
            "Epoch 196/500\n",
            "4/4 [==============================] - 0s 4ms/step - loss: 0.6020\n",
            "Epoch 197/500\n",
            "4/4 [==============================] - 0s 4ms/step - loss: 0.6003\n",
            "Epoch 198/500\n",
            "4/4 [==============================] - 0s 4ms/step - loss: 0.5976\n",
            "Epoch 199/500\n",
            "4/4 [==============================] - 0s 4ms/step - loss: 0.5964\n",
            "Epoch 200/500\n",
            "4/4 [==============================] - 0s 5ms/step - loss: 0.5941\n",
            "Epoch 201/500\n",
            "4/4 [==============================] - 0s 5ms/step - loss: 0.5923\n",
            "Epoch 202/500\n",
            "4/4 [==============================] - 0s 4ms/step - loss: 0.5902\n",
            "Epoch 203/500\n",
            "4/4 [==============================] - 0s 4ms/step - loss: 0.5885\n",
            "Epoch 204/500\n",
            "4/4 [==============================] - 0s 4ms/step - loss: 0.5868\n",
            "Epoch 205/500\n",
            "4/4 [==============================] - 0s 4ms/step - loss: 0.5849\n",
            "Epoch 206/500\n",
            "4/4 [==============================] - 0s 4ms/step - loss: 0.5831\n",
            "Epoch 207/500\n",
            "4/4 [==============================] - 0s 4ms/step - loss: 0.5813\n",
            "Epoch 208/500\n",
            "4/4 [==============================] - 0s 4ms/step - loss: 0.5796\n",
            "Epoch 209/500\n",
            "4/4 [==============================] - 0s 4ms/step - loss: 0.5779\n",
            "Epoch 210/500\n",
            "4/4 [==============================] - 0s 4ms/step - loss: 0.5764\n",
            "Epoch 211/500\n",
            "4/4 [==============================] - 0s 5ms/step - loss: 0.5746\n",
            "Epoch 212/500\n",
            "4/4 [==============================] - 0s 4ms/step - loss: 0.5730\n",
            "Epoch 213/500\n",
            "4/4 [==============================] - 0s 4ms/step - loss: 0.5713\n",
            "Epoch 214/500\n",
            "4/4 [==============================] - 0s 6ms/step - loss: 0.5697\n",
            "Epoch 215/500\n",
            "4/4 [==============================] - 0s 4ms/step - loss: 0.5679\n",
            "Epoch 216/500\n",
            "4/4 [==============================] - 0s 4ms/step - loss: 0.5664\n",
            "Epoch 217/500\n",
            "4/4 [==============================] - 0s 5ms/step - loss: 0.5648\n",
            "Epoch 218/500\n",
            "4/4 [==============================] - 0s 5ms/step - loss: 0.5633\n",
            "Epoch 219/500\n",
            "4/4 [==============================] - 0s 5ms/step - loss: 0.5617\n",
            "Epoch 220/500\n",
            "4/4 [==============================] - 0s 4ms/step - loss: 0.5601\n",
            "Epoch 221/500\n",
            "4/4 [==============================] - 0s 4ms/step - loss: 0.5586\n",
            "Epoch 222/500\n",
            "4/4 [==============================] - 0s 5ms/step - loss: 0.5570\n",
            "Epoch 223/500\n",
            "4/4 [==============================] - 0s 4ms/step - loss: 0.5556\n",
            "Epoch 224/500\n",
            "4/4 [==============================] - 0s 4ms/step - loss: 0.5540\n",
            "Epoch 225/500\n",
            "4/4 [==============================] - 0s 3ms/step - loss: 0.5524\n",
            "Epoch 226/500\n",
            "4/4 [==============================] - 0s 5ms/step - loss: 0.5509\n",
            "Epoch 227/500\n",
            "4/4 [==============================] - 0s 4ms/step - loss: 0.5495\n",
            "Epoch 228/500\n",
            "4/4 [==============================] - 0s 4ms/step - loss: 0.5480\n",
            "Epoch 229/500\n",
            "4/4 [==============================] - 0s 5ms/step - loss: 0.5465\n",
            "Epoch 230/500\n",
            "4/4 [==============================] - 0s 5ms/step - loss: 0.5451\n",
            "Epoch 231/500\n",
            "4/4 [==============================] - 0s 4ms/step - loss: 0.5436\n",
            "Epoch 232/500\n",
            "4/4 [==============================] - 0s 5ms/step - loss: 0.5424\n",
            "Epoch 233/500\n",
            "4/4 [==============================] - 0s 4ms/step - loss: 0.5406\n",
            "Epoch 234/500\n",
            "4/4 [==============================] - 0s 4ms/step - loss: 0.5392\n",
            "Epoch 235/500\n",
            "4/4 [==============================] - 0s 4ms/step - loss: 0.5379\n",
            "Epoch 236/500\n",
            "4/4 [==============================] - 0s 4ms/step - loss: 0.5363\n",
            "Epoch 237/500\n",
            "4/4 [==============================] - 0s 4ms/step - loss: 0.5349\n",
            "Epoch 238/500\n",
            "4/4 [==============================] - 0s 4ms/step - loss: 0.5335\n",
            "Epoch 239/500\n",
            "4/4 [==============================] - 0s 4ms/step - loss: 0.5321\n",
            "Epoch 240/500\n",
            "4/4 [==============================] - 0s 4ms/step - loss: 0.5307\n",
            "Epoch 241/500\n",
            "4/4 [==============================] - 0s 4ms/step - loss: 0.5293\n",
            "Epoch 242/500\n",
            "4/4 [==============================] - 0s 4ms/step - loss: 0.5280\n",
            "Epoch 243/500\n",
            "4/4 [==============================] - 0s 4ms/step - loss: 0.5265\n",
            "Epoch 244/500\n",
            "4/4 [==============================] - 0s 5ms/step - loss: 0.5252\n",
            "Epoch 245/500\n",
            "4/4 [==============================] - 0s 4ms/step - loss: 0.5238\n",
            "Epoch 246/500\n",
            "4/4 [==============================] - 0s 4ms/step - loss: 0.5225\n",
            "Epoch 247/500\n",
            "4/4 [==============================] - 0s 5ms/step - loss: 0.5213\n",
            "Epoch 248/500\n",
            "4/4 [==============================] - 0s 4ms/step - loss: 0.5198\n",
            "Epoch 249/500\n",
            "4/4 [==============================] - 0s 5ms/step - loss: 0.5185\n",
            "Epoch 250/500\n",
            "4/4 [==============================] - 0s 4ms/step - loss: 0.5171\n",
            "Epoch 251/500\n",
            "4/4 [==============================] - 0s 4ms/step - loss: 0.5159\n",
            "Epoch 252/500\n",
            "4/4 [==============================] - 0s 6ms/step - loss: 0.5146\n",
            "Epoch 253/500\n",
            "4/4 [==============================] - 0s 5ms/step - loss: 0.5133\n",
            "Epoch 254/500\n",
            "4/4 [==============================] - 0s 4ms/step - loss: 0.5120\n",
            "Epoch 255/500\n",
            "4/4 [==============================] - 0s 4ms/step - loss: 0.5107\n",
            "Epoch 256/500\n",
            "4/4 [==============================] - 0s 4ms/step - loss: 0.5093\n",
            "Epoch 257/500\n",
            "4/4 [==============================] - 0s 4ms/step - loss: 0.5081\n",
            "Epoch 258/500\n",
            "4/4 [==============================] - 0s 4ms/step - loss: 0.5069\n",
            "Epoch 259/500\n",
            "4/4 [==============================] - 0s 4ms/step - loss: 0.5055\n",
            "Epoch 260/500\n",
            "4/4 [==============================] - 0s 4ms/step - loss: 0.5043\n",
            "Epoch 261/500\n",
            "4/4 [==============================] - 0s 5ms/step - loss: 0.5030\n",
            "Epoch 262/500\n",
            "4/4 [==============================] - 0s 5ms/step - loss: 0.5018\n",
            "Epoch 263/500\n",
            "4/4 [==============================] - 0s 4ms/step - loss: 0.5006\n",
            "Epoch 264/500\n",
            "4/4 [==============================] - 0s 6ms/step - loss: 0.4993\n",
            "Epoch 265/500\n",
            "4/4 [==============================] - 0s 4ms/step - loss: 0.4980\n",
            "Epoch 266/500\n",
            "4/4 [==============================] - 0s 4ms/step - loss: 0.4970\n",
            "Epoch 267/500\n",
            "4/4 [==============================] - 0s 3ms/step - loss: 0.4957\n",
            "Epoch 268/500\n",
            "4/4 [==============================] - 0s 4ms/step - loss: 0.4944\n",
            "Epoch 269/500\n",
            "4/4 [==============================] - 0s 4ms/step - loss: 0.4933\n",
            "Epoch 270/500\n",
            "4/4 [==============================] - 0s 4ms/step - loss: 0.4922\n",
            "Epoch 271/500\n",
            "4/4 [==============================] - 0s 4ms/step - loss: 0.4909\n",
            "Epoch 272/500\n",
            "4/4 [==============================] - 0s 4ms/step - loss: 0.4897\n",
            "Epoch 273/500\n",
            "4/4 [==============================] - 0s 4ms/step - loss: 0.4888\n",
            "Epoch 274/500\n",
            "4/4 [==============================] - 0s 5ms/step - loss: 0.4874\n",
            "Epoch 275/500\n",
            "4/4 [==============================] - 0s 5ms/step - loss: 0.4863\n",
            "Epoch 276/500\n",
            "4/4 [==============================] - 0s 4ms/step - loss: 0.4854\n",
            "Epoch 277/500\n",
            "4/4 [==============================] - 0s 7ms/step - loss: 0.4841\n",
            "Epoch 278/500\n",
            "4/4 [==============================] - 0s 4ms/step - loss: 0.4829\n",
            "Epoch 279/500\n",
            "4/4 [==============================] - 0s 5ms/step - loss: 0.4817\n",
            "Epoch 280/500\n",
            "4/4 [==============================] - 0s 4ms/step - loss: 0.4810\n",
            "Epoch 281/500\n",
            "4/4 [==============================] - 0s 4ms/step - loss: 0.4795\n",
            "Epoch 282/500\n",
            "4/4 [==============================] - 0s 4ms/step - loss: 0.4783\n",
            "Epoch 283/500\n",
            "4/4 [==============================] - 0s 4ms/step - loss: 0.4773\n",
            "Epoch 284/500\n",
            "4/4 [==============================] - 0s 4ms/step - loss: 0.4761\n",
            "Epoch 285/500\n",
            "4/4 [==============================] - 0s 4ms/step - loss: 0.4749\n",
            "Epoch 286/500\n",
            "4/4 [==============================] - 0s 4ms/step - loss: 0.4738\n",
            "Epoch 287/500\n",
            "4/4 [==============================] - 0s 5ms/step - loss: 0.4728\n",
            "Epoch 288/500\n",
            "4/4 [==============================] - 0s 4ms/step - loss: 0.4716\n",
            "Epoch 289/500\n",
            "4/4 [==============================] - 0s 4ms/step - loss: 0.4706\n",
            "Epoch 290/500\n",
            "4/4 [==============================] - 0s 4ms/step - loss: 0.4695\n",
            "Epoch 291/500\n",
            "4/4 [==============================] - 0s 4ms/step - loss: 0.4685\n",
            "Epoch 292/500\n",
            "4/4 [==============================] - 0s 4ms/step - loss: 0.4674\n",
            "Epoch 293/500\n",
            "4/4 [==============================] - 0s 5ms/step - loss: 0.4665\n",
            "Epoch 294/500\n",
            "4/4 [==============================] - 0s 4ms/step - loss: 0.4652\n",
            "Epoch 295/500\n",
            "4/4 [==============================] - 0s 4ms/step - loss: 0.4643\n",
            "Epoch 296/500\n",
            "4/4 [==============================] - 0s 4ms/step - loss: 0.4632\n",
            "Epoch 297/500\n",
            "4/4 [==============================] - 0s 5ms/step - loss: 0.4624\n",
            "Epoch 298/500\n",
            "4/4 [==============================] - 0s 5ms/step - loss: 0.4611\n",
            "Epoch 299/500\n",
            "4/4 [==============================] - 0s 4ms/step - loss: 0.4602\n",
            "Epoch 300/500\n",
            "4/4 [==============================] - 0s 4ms/step - loss: 0.4591\n",
            "Epoch 301/500\n",
            "4/4 [==============================] - 0s 4ms/step - loss: 0.4579\n",
            "Epoch 302/500\n",
            "4/4 [==============================] - 0s 4ms/step - loss: 0.4571\n",
            "Epoch 303/500\n",
            "4/4 [==============================] - 0s 5ms/step - loss: 0.4561\n",
            "Epoch 304/500\n",
            "4/4 [==============================] - 0s 5ms/step - loss: 0.4552\n",
            "Epoch 305/500\n",
            "4/4 [==============================] - 0s 4ms/step - loss: 0.4541\n",
            "Epoch 306/500\n",
            "4/4 [==============================] - 0s 4ms/step - loss: 0.4532\n",
            "Epoch 307/500\n",
            "4/4 [==============================] - 0s 5ms/step - loss: 0.4522\n",
            "Epoch 308/500\n",
            "4/4 [==============================] - 0s 4ms/step - loss: 0.4511\n",
            "Epoch 309/500\n",
            "4/4 [==============================] - 0s 4ms/step - loss: 0.4502\n",
            "Epoch 310/500\n",
            "4/4 [==============================] - 0s 4ms/step - loss: 0.4493\n",
            "Epoch 311/500\n",
            "4/4 [==============================] - 0s 4ms/step - loss: 0.4481\n",
            "Epoch 312/500\n",
            "4/4 [==============================] - 0s 4ms/step - loss: 0.4473\n",
            "Epoch 313/500\n",
            "4/4 [==============================] - 0s 4ms/step - loss: 0.4464\n",
            "Epoch 314/500\n",
            "4/4 [==============================] - 0s 4ms/step - loss: 0.4453\n",
            "Epoch 315/500\n",
            "4/4 [==============================] - 0s 5ms/step - loss: 0.4443\n",
            "Epoch 316/500\n",
            "4/4 [==============================] - 0s 4ms/step - loss: 0.4434\n",
            "Epoch 317/500\n",
            "4/4 [==============================] - 0s 4ms/step - loss: 0.4424\n",
            "Epoch 318/500\n",
            "4/4 [==============================] - 0s 5ms/step - loss: 0.4418\n",
            "Epoch 319/500\n",
            "4/4 [==============================] - 0s 4ms/step - loss: 0.4405\n",
            "Epoch 320/500\n",
            "4/4 [==============================] - 0s 5ms/step - loss: 0.4397\n",
            "Epoch 321/500\n",
            "4/4 [==============================] - 0s 4ms/step - loss: 0.4387\n",
            "Epoch 322/500\n",
            "4/4 [==============================] - 0s 4ms/step - loss: 0.4379\n",
            "Epoch 323/500\n",
            "4/4 [==============================] - 0s 4ms/step - loss: 0.4369\n",
            "Epoch 324/500\n",
            "4/4 [==============================] - 0s 4ms/step - loss: 0.4362\n",
            "Epoch 325/500\n",
            "4/4 [==============================] - 0s 4ms/step - loss: 0.4353\n",
            "Epoch 326/500\n",
            "4/4 [==============================] - 0s 5ms/step - loss: 0.4342\n",
            "Epoch 327/500\n",
            "4/4 [==============================] - 0s 4ms/step - loss: 0.4333\n",
            "Epoch 328/500\n",
            "4/4 [==============================] - 0s 4ms/step - loss: 0.4324\n",
            "Epoch 329/500\n",
            "4/4 [==============================] - 0s 4ms/step - loss: 0.4316\n",
            "Epoch 330/500\n",
            "4/4 [==============================] - 0s 4ms/step - loss: 0.4306\n",
            "Epoch 331/500\n",
            "4/4 [==============================] - 0s 4ms/step - loss: 0.4301\n",
            "Epoch 332/500\n",
            "4/4 [==============================] - 0s 4ms/step - loss: 0.4290\n",
            "Epoch 333/500\n",
            "4/4 [==============================] - 0s 4ms/step - loss: 0.4280\n",
            "Epoch 334/500\n",
            "4/4 [==============================] - 0s 4ms/step - loss: 0.4273\n",
            "Epoch 335/500\n",
            "4/4 [==============================] - 0s 5ms/step - loss: 0.4263\n",
            "Epoch 336/500\n",
            "4/4 [==============================] - 0s 4ms/step - loss: 0.4255\n",
            "Epoch 337/500\n",
            "4/4 [==============================] - 0s 4ms/step - loss: 0.4245\n",
            "Epoch 338/500\n",
            "4/4 [==============================] - 0s 4ms/step - loss: 0.4237\n",
            "Epoch 339/500\n",
            "4/4 [==============================] - 0s 4ms/step - loss: 0.4232\n",
            "Epoch 340/500\n",
            "4/4 [==============================] - 0s 4ms/step - loss: 0.4221\n",
            "Epoch 341/500\n",
            "4/4 [==============================] - 0s 4ms/step - loss: 0.4211\n",
            "Epoch 342/500\n",
            "4/4 [==============================] - 0s 4ms/step - loss: 0.4204\n",
            "Epoch 343/500\n",
            "4/4 [==============================] - 0s 4ms/step - loss: 0.4195\n",
            "Epoch 344/500\n",
            "4/4 [==============================] - 0s 4ms/step - loss: 0.4186\n",
            "Epoch 345/500\n",
            "4/4 [==============================] - 0s 4ms/step - loss: 0.4177\n",
            "Epoch 346/500\n",
            "4/4 [==============================] - 0s 4ms/step - loss: 0.4169\n",
            "Epoch 347/500\n",
            "4/4 [==============================] - 0s 4ms/step - loss: 0.4161\n",
            "Epoch 348/500\n",
            "4/4 [==============================] - 0s 5ms/step - loss: 0.4153\n",
            "Epoch 349/500\n",
            "4/4 [==============================] - 0s 5ms/step - loss: 0.4145\n",
            "Epoch 350/500\n",
            "4/4 [==============================] - 0s 6ms/step - loss: 0.4137\n",
            "Epoch 351/500\n",
            "4/4 [==============================] - 0s 4ms/step - loss: 0.4130\n",
            "Epoch 352/500\n",
            "4/4 [==============================] - 0s 4ms/step - loss: 0.4122\n",
            "Epoch 353/500\n",
            "4/4 [==============================] - 0s 4ms/step - loss: 0.4115\n",
            "Epoch 354/500\n",
            "4/4 [==============================] - 0s 4ms/step - loss: 0.4106\n",
            "Epoch 355/500\n",
            "4/4 [==============================] - 0s 4ms/step - loss: 0.4103\n",
            "Epoch 356/500\n",
            "4/4 [==============================] - 0s 4ms/step - loss: 0.4091\n",
            "Epoch 357/500\n",
            "4/4 [==============================] - 0s 4ms/step - loss: 0.4082\n",
            "Epoch 358/500\n",
            "4/4 [==============================] - 0s 4ms/step - loss: 0.4074\n",
            "Epoch 359/500\n",
            "4/4 [==============================] - 0s 4ms/step - loss: 0.4066\n",
            "Epoch 360/500\n",
            "4/4 [==============================] - 0s 4ms/step - loss: 0.4058\n",
            "Epoch 361/500\n",
            "4/4 [==============================] - 0s 4ms/step - loss: 0.4050\n",
            "Epoch 362/500\n",
            "4/4 [==============================] - 0s 4ms/step - loss: 0.4043\n",
            "Epoch 363/500\n",
            "4/4 [==============================] - 0s 5ms/step - loss: 0.4035\n",
            "Epoch 364/500\n",
            "4/4 [==============================] - 0s 4ms/step - loss: 0.4028\n",
            "Epoch 365/500\n",
            "4/4 [==============================] - 0s 4ms/step - loss: 0.4020\n",
            "Epoch 366/500\n",
            "4/4 [==============================] - 0s 4ms/step - loss: 0.4015\n",
            "Epoch 367/500\n",
            "4/4 [==============================] - 0s 4ms/step - loss: 0.4005\n",
            "Epoch 368/500\n",
            "4/4 [==============================] - 0s 4ms/step - loss: 0.3999\n",
            "Epoch 369/500\n",
            "4/4 [==============================] - 0s 4ms/step - loss: 0.3991\n",
            "Epoch 370/500\n",
            "4/4 [==============================] - 0s 4ms/step - loss: 0.3983\n",
            "Epoch 371/500\n",
            "4/4 [==============================] - 0s 4ms/step - loss: 0.3976\n",
            "Epoch 372/500\n",
            "4/4 [==============================] - 0s 4ms/step - loss: 0.3968\n",
            "Epoch 373/500\n",
            "4/4 [==============================] - 0s 4ms/step - loss: 0.3962\n",
            "Epoch 374/500\n",
            "4/4 [==============================] - 0s 4ms/step - loss: 0.3953\n",
            "Epoch 375/500\n",
            "4/4 [==============================] - 0s 4ms/step - loss: 0.3945\n",
            "Epoch 376/500\n",
            "4/4 [==============================] - 0s 4ms/step - loss: 0.3939\n",
            "Epoch 377/500\n",
            "4/4 [==============================] - 0s 4ms/step - loss: 0.3931\n",
            "Epoch 378/500\n",
            "4/4 [==============================] - 0s 4ms/step - loss: 0.3922\n",
            "Epoch 379/500\n",
            "4/4 [==============================] - 0s 4ms/step - loss: 0.3916\n",
            "Epoch 380/500\n",
            "4/4 [==============================] - 0s 4ms/step - loss: 0.3909\n",
            "Epoch 381/500\n",
            "4/4 [==============================] - 0s 6ms/step - loss: 0.3904\n",
            "Epoch 382/500\n",
            "4/4 [==============================] - 0s 4ms/step - loss: 0.3896\n",
            "Epoch 383/500\n",
            "4/4 [==============================] - 0s 5ms/step - loss: 0.3889\n",
            "Epoch 384/500\n",
            "4/4 [==============================] - 0s 4ms/step - loss: 0.3881\n",
            "Epoch 385/500\n",
            "4/4 [==============================] - 0s 4ms/step - loss: 0.3874\n",
            "Epoch 386/500\n",
            "4/4 [==============================] - 0s 4ms/step - loss: 0.3868\n",
            "Epoch 387/500\n",
            "4/4 [==============================] - 0s 5ms/step - loss: 0.3861\n",
            "Epoch 388/500\n",
            "4/4 [==============================] - 0s 4ms/step - loss: 0.3854\n",
            "Epoch 389/500\n",
            "4/4 [==============================] - 0s 4ms/step - loss: 0.3847\n",
            "Epoch 390/500\n",
            "4/4 [==============================] - 0s 4ms/step - loss: 0.3841\n",
            "Epoch 391/500\n",
            "4/4 [==============================] - 0s 5ms/step - loss: 0.3833\n",
            "Epoch 392/500\n",
            "4/4 [==============================] - 0s 5ms/step - loss: 0.3826\n",
            "Epoch 393/500\n",
            "4/4 [==============================] - 0s 6ms/step - loss: 0.3821\n",
            "Epoch 394/500\n",
            "4/4 [==============================] - 0s 4ms/step - loss: 0.3813\n",
            "Epoch 395/500\n",
            "4/4 [==============================] - 0s 4ms/step - loss: 0.3806\n",
            "Epoch 396/500\n",
            "4/4 [==============================] - 0s 4ms/step - loss: 0.3799\n",
            "Epoch 397/500\n",
            "4/4 [==============================] - 0s 4ms/step - loss: 0.3793\n",
            "Epoch 398/500\n",
            "4/4 [==============================] - 0s 4ms/step - loss: 0.3786\n",
            "Epoch 399/500\n",
            "4/4 [==============================] - 0s 4ms/step - loss: 0.3781\n",
            "Epoch 400/500\n",
            "4/4 [==============================] - 0s 4ms/step - loss: 0.3774\n",
            "Epoch 401/500\n",
            "4/4 [==============================] - 0s 4ms/step - loss: 0.3767\n",
            "Epoch 402/500\n",
            "4/4 [==============================] - 0s 4ms/step - loss: 0.3761\n",
            "Epoch 403/500\n",
            "4/4 [==============================] - 0s 4ms/step - loss: 0.3754\n",
            "Epoch 404/500\n",
            "4/4 [==============================] - 0s 4ms/step - loss: 0.3747\n",
            "Epoch 405/500\n",
            "4/4 [==============================] - 0s 4ms/step - loss: 0.3741\n",
            "Epoch 406/500\n",
            "4/4 [==============================] - 0s 4ms/step - loss: 0.3734\n",
            "Epoch 407/500\n",
            "4/4 [==============================] - 0s 4ms/step - loss: 0.3728\n",
            "Epoch 408/500\n",
            "4/4 [==============================] - 0s 5ms/step - loss: 0.3722\n",
            "Epoch 409/500\n",
            "4/4 [==============================] - 0s 4ms/step - loss: 0.3715\n",
            "Epoch 410/500\n",
            "4/4 [==============================] - 0s 5ms/step - loss: 0.3709\n",
            "Epoch 411/500\n",
            "4/4 [==============================] - 0s 4ms/step - loss: 0.3702\n",
            "Epoch 412/500\n",
            "4/4 [==============================] - 0s 4ms/step - loss: 0.3697\n",
            "Epoch 413/500\n",
            "4/4 [==============================] - 0s 4ms/step - loss: 0.3694\n",
            "Epoch 414/500\n",
            "4/4 [==============================] - 0s 5ms/step - loss: 0.3685\n",
            "Epoch 415/500\n",
            "4/4 [==============================] - 0s 5ms/step - loss: 0.3678\n",
            "Epoch 416/500\n",
            "4/4 [==============================] - 0s 4ms/step - loss: 0.3673\n",
            "Epoch 417/500\n",
            "4/4 [==============================] - 0s 4ms/step - loss: 0.3666\n",
            "Epoch 418/500\n",
            "4/4 [==============================] - 0s 4ms/step - loss: 0.3662\n",
            "Epoch 419/500\n",
            "4/4 [==============================] - 0s 4ms/step - loss: 0.3653\n",
            "Epoch 420/500\n",
            "4/4 [==============================] - 0s 4ms/step - loss: 0.3648\n",
            "Epoch 421/500\n",
            "4/4 [==============================] - 0s 4ms/step - loss: 0.3642\n",
            "Epoch 422/500\n",
            "4/4 [==============================] - 0s 4ms/step - loss: 0.3636\n",
            "Epoch 423/500\n",
            "4/4 [==============================] - 0s 4ms/step - loss: 0.3629\n",
            "Epoch 424/500\n",
            "4/4 [==============================] - 0s 4ms/step - loss: 0.3623\n",
            "Epoch 425/500\n",
            "4/4 [==============================] - 0s 4ms/step - loss: 0.3618\n",
            "Epoch 426/500\n",
            "4/4 [==============================] - 0s 4ms/step - loss: 0.3611\n",
            "Epoch 427/500\n",
            "4/4 [==============================] - 0s 4ms/step - loss: 0.3606\n",
            "Epoch 428/500\n",
            "4/4 [==============================] - 0s 4ms/step - loss: 0.3601\n",
            "Epoch 429/500\n",
            "4/4 [==============================] - 0s 4ms/step - loss: 0.3595\n",
            "Epoch 430/500\n",
            "4/4 [==============================] - 0s 4ms/step - loss: 0.3588\n",
            "Epoch 431/500\n",
            "4/4 [==============================] - 0s 4ms/step - loss: 0.3585\n",
            "Epoch 432/500\n",
            "4/4 [==============================] - 0s 4ms/step - loss: 0.3578\n",
            "Epoch 433/500\n",
            "4/4 [==============================] - 0s 4ms/step - loss: 0.3571\n",
            "Epoch 434/500\n",
            "4/4 [==============================] - 0s 4ms/step - loss: 0.3566\n",
            "Epoch 435/500\n",
            "4/4 [==============================] - 0s 4ms/step - loss: 0.3559\n",
            "Epoch 436/500\n",
            "4/4 [==============================] - 0s 4ms/step - loss: 0.3555\n",
            "Epoch 437/500\n",
            "4/4 [==============================] - 0s 5ms/step - loss: 0.3549\n",
            "Epoch 438/500\n",
            "4/4 [==============================] - 0s 4ms/step - loss: 0.3543\n",
            "Epoch 439/500\n",
            "4/4 [==============================] - 0s 5ms/step - loss: 0.3538\n",
            "Epoch 440/500\n",
            "4/4 [==============================] - 0s 4ms/step - loss: 0.3533\n",
            "Epoch 441/500\n",
            "4/4 [==============================] - 0s 4ms/step - loss: 0.3527\n",
            "Epoch 442/500\n",
            "4/4 [==============================] - 0s 3ms/step - loss: 0.3521\n",
            "Epoch 443/500\n",
            "4/4 [==============================] - 0s 5ms/step - loss: 0.3516\n",
            "Epoch 444/500\n",
            "4/4 [==============================] - 0s 4ms/step - loss: 0.3511\n",
            "Epoch 445/500\n",
            "4/4 [==============================] - 0s 4ms/step - loss: 0.3505\n",
            "Epoch 446/500\n",
            "4/4 [==============================] - 0s 4ms/step - loss: 0.3502\n",
            "Epoch 447/500\n",
            "4/4 [==============================] - 0s 4ms/step - loss: 0.3494\n",
            "Epoch 448/500\n",
            "4/4 [==============================] - 0s 4ms/step - loss: 0.3489\n",
            "Epoch 449/500\n",
            "4/4 [==============================] - 0s 4ms/step - loss: 0.3485\n",
            "Epoch 450/500\n",
            "4/4 [==============================] - 0s 4ms/step - loss: 0.3478\n",
            "Epoch 451/500\n",
            "4/4 [==============================] - 0s 4ms/step - loss: 0.3473\n",
            "Epoch 452/500\n",
            "4/4 [==============================] - 0s 4ms/step - loss: 0.3469\n",
            "Epoch 453/500\n",
            "4/4 [==============================] - 0s 4ms/step - loss: 0.3464\n",
            "Epoch 454/500\n",
            "4/4 [==============================] - 0s 5ms/step - loss: 0.3458\n",
            "Epoch 455/500\n",
            "4/4 [==============================] - 0s 6ms/step - loss: 0.3454\n",
            "Epoch 456/500\n",
            "4/4 [==============================] - 0s 4ms/step - loss: 0.3447\n",
            "Epoch 457/500\n",
            "4/4 [==============================] - 0s 4ms/step - loss: 0.3441\n",
            "Epoch 458/500\n",
            "4/4 [==============================] - 0s 4ms/step - loss: 0.3438\n",
            "Epoch 459/500\n",
            "4/4 [==============================] - 0s 4ms/step - loss: 0.3434\n",
            "Epoch 460/500\n",
            "4/4 [==============================] - 0s 4ms/step - loss: 0.3427\n",
            "Epoch 461/500\n",
            "4/4 [==============================] - 0s 4ms/step - loss: 0.3422\n",
            "Epoch 462/500\n",
            "4/4 [==============================] - 0s 4ms/step - loss: 0.3416\n",
            "Epoch 463/500\n",
            "4/4 [==============================] - 0s 4ms/step - loss: 0.3412\n",
            "Epoch 464/500\n",
            "4/4 [==============================] - 0s 4ms/step - loss: 0.3406\n",
            "Epoch 465/500\n",
            "4/4 [==============================] - 0s 4ms/step - loss: 0.3401\n",
            "Epoch 466/500\n",
            "4/4 [==============================] - 0s 4ms/step - loss: 0.3396\n",
            "Epoch 467/500\n",
            "4/4 [==============================] - 0s 4ms/step - loss: 0.3391\n",
            "Epoch 468/500\n",
            "4/4 [==============================] - 0s 4ms/step - loss: 0.3386\n",
            "Epoch 469/500\n",
            "4/4 [==============================] - 0s 4ms/step - loss: 0.3381\n",
            "Epoch 470/500\n",
            "4/4 [==============================] - 0s 4ms/step - loss: 0.3377\n",
            "Epoch 471/500\n",
            "4/4 [==============================] - 0s 4ms/step - loss: 0.3372\n",
            "Epoch 472/500\n",
            "4/4 [==============================] - 0s 4ms/step - loss: 0.3368\n",
            "Epoch 473/500\n",
            "4/4 [==============================] - 0s 4ms/step - loss: 0.3362\n",
            "Epoch 474/500\n",
            "4/4 [==============================] - 0s 4ms/step - loss: 0.3359\n",
            "Epoch 475/500\n",
            "4/4 [==============================] - 0s 4ms/step - loss: 0.3353\n",
            "Epoch 476/500\n",
            "4/4 [==============================] - 0s 4ms/step - loss: 0.3351\n",
            "Epoch 477/500\n",
            "4/4 [==============================] - 0s 4ms/step - loss: 0.3343\n",
            "Epoch 478/500\n",
            "4/4 [==============================] - 0s 4ms/step - loss: 0.3339\n",
            "Epoch 479/500\n",
            "4/4 [==============================] - 0s 4ms/step - loss: 0.3334\n",
            "Epoch 480/500\n",
            "4/4 [==============================] - 0s 4ms/step - loss: 0.3330\n",
            "Epoch 481/500\n",
            "4/4 [==============================] - 0s 4ms/step - loss: 0.3327\n",
            "Epoch 482/500\n",
            "4/4 [==============================] - 0s 4ms/step - loss: 0.3319\n",
            "Epoch 483/500\n",
            "4/4 [==============================] - 0s 4ms/step - loss: 0.3315\n",
            "Epoch 484/500\n",
            "4/4 [==============================] - 0s 4ms/step - loss: 0.3311\n",
            "Epoch 485/500\n",
            "4/4 [==============================] - 0s 4ms/step - loss: 0.3306\n",
            "Epoch 486/500\n",
            "4/4 [==============================] - 0s 4ms/step - loss: 0.3303\n",
            "Epoch 487/500\n",
            "4/4 [==============================] - 0s 4ms/step - loss: 0.3298\n",
            "Epoch 488/500\n",
            "4/4 [==============================] - 0s 4ms/step - loss: 0.3292\n",
            "Epoch 489/500\n",
            "4/4 [==============================] - 0s 4ms/step - loss: 0.3287\n",
            "Epoch 490/500\n",
            "4/4 [==============================] - 0s 4ms/step - loss: 0.3284\n",
            "Epoch 491/500\n",
            "4/4 [==============================] - 0s 4ms/step - loss: 0.3278\n",
            "Epoch 492/500\n",
            "4/4 [==============================] - 0s 4ms/step - loss: 0.3274\n",
            "Epoch 493/500\n",
            "4/4 [==============================] - 0s 4ms/step - loss: 0.3270\n",
            "Epoch 494/500\n",
            "4/4 [==============================] - 0s 4ms/step - loss: 0.3265\n",
            "Epoch 495/500\n",
            "4/4 [==============================] - 0s 4ms/step - loss: 0.3262\n",
            "Epoch 496/500\n",
            "4/4 [==============================] - 0s 4ms/step - loss: 0.3257\n",
            "Epoch 497/500\n",
            "4/4 [==============================] - 0s 4ms/step - loss: 0.3253\n",
            "Epoch 498/500\n",
            "4/4 [==============================] - 0s 4ms/step - loss: 0.3249\n",
            "Epoch 499/500\n",
            "4/4 [==============================] - 0s 4ms/step - loss: 0.3244\n",
            "Epoch 500/500\n",
            "4/4 [==============================] - 0s 4ms/step - loss: 0.3241\n"
          ]
        },
        {
          "output_type": "execute_result",
          "data": {
            "text/plain": [
              "<keras.callbacks.History at 0x7f92c4a1dc10>"
            ]
          },
          "metadata": {},
          "execution_count": 108
        }
      ]
    },
    {
      "cell_type": "code",
      "source": [
        " y_predict=regressor2.predict(xtreino)"
      ],
      "metadata": {
        "colab": {
          "base_uri": "https://localhost:8080/"
        },
        "id": "QYZL3NXOxr7U",
        "outputId": "7b55c2de-a674-4d11-c4e2-277e1423f390"
      },
      "execution_count": null,
      "outputs": [
        {
          "output_type": "stream",
          "name": "stdout",
          "text": [
            "4/4 [==============================] - 0s 4ms/step\n"
          ]
        }
      ]
    },
    {
      "cell_type": "code",
      "source": [
        "y_predict_teste=regressor2.predict(xteste)"
      ],
      "metadata": {
        "colab": {
          "base_uri": "https://localhost:8080/"
        },
        "id": "Z51yQ0lDx5Xb",
        "outputId": "f846e01b-def5-4681-dd66-f0d50be63c9c"
      },
      "execution_count": null,
      "outputs": [
        {
          "output_type": "stream",
          "name": "stdout",
          "text": [
            "1/1 [==============================] - 0s 22ms/step\n"
          ]
        }
      ]
    },
    {
      "cell_type": "code",
      "source": [
        " sns.lineplot(x=xtreino, y=ytreino, label='treino')\n",
        " sns.lineplot(x=xteste, y=yteste, label='teste')\n",
        " sns.lineplot(x=xtreino, y=y_predict[:,0], label='ajuste_treino')\n",
        " sns.lineplot(x=xteste, y=y_predict_teste[:,0], label='previsao')"
      ],
      "metadata": {
        "colab": {
          "base_uri": "https://localhost:8080/",
          "height": 391
        },
        "id": "12gKYoDYx7u_",
        "outputId": "55b46bcf-3b1c-4d29-a569-fe68da2dd436"
      },
      "execution_count": null,
      "outputs": [
        {
          "output_type": "execute_result",
          "data": {
            "text/plain": [
              "<matplotlib.axes._subplots.AxesSubplot at 0x7f92bf9371c0>"
            ]
          },
          "metadata": {},
          "execution_count": 111
        },
        {
          "output_type": "display_data",
          "data": {
            "text/plain": [
              "<Figure size 720x432 with 1 Axes>"
            ],
            "image/png": "[encoded data removed]"
          },
          "metadata": {
            "needs_background": "light"
          }
        }
      ]
    },
    {
      "cell_type": "code",
      "source": [
        "vetor=pd.DataFrame(ytreino)[0]"
      ],
      "metadata": {
        "id": "OmxHHMLgyAcn"
      },
      "execution_count": null,
      "outputs": []
    },
    {
      "cell_type": "code",
      "source": [
        "import numpy as np"
      ],
      "metadata": {
        "id": "eUfEVbdLyIty"
      },
      "execution_count": null,
      "outputs": []
    },
    {
      "cell_type": "code",
      "source": [
        "#utilizar os dados de saida na entrada(um atraso) para a rede aprender \n",
        "def separa_dados(vetor, n_passos):\n",
        "  X_novo, y_novo=[],[]\n",
        "\n",
        "  for i in range(n_passos, vetor.shape[0]):\n",
        "    X_novo.append(list(vetor.loc[i-n_passos:i-1]))\n",
        "    y_novo.append(vetor.loc[i])\n",
        "  X_novo, y_novo=np.array(X_novo), np.array(y_novo)\n",
        "  return X_novo, y_novo"
      ],
      "metadata": {
        "id": "Ak_HXEG3yKdK"
      },
      "execution_count": null,
      "outputs": []
    },
    {
      "cell_type": "code",
      "source": [
        "xtreino_novo, ytreino_novo=separa_dados(vetor,1)"
      ],
      "metadata": {
        "id": "uOxZiXe4yMU7"
      },
      "execution_count": null,
      "outputs": []
    },
    {
      "cell_type": "code",
      "source": [
        "xtreino_novo[0:5]"
      ],
      "metadata": {
        "colab": {
          "base_uri": "https://localhost:8080/"
        },
        "id": "SuaxthPnyOyr",
        "outputId": "12fc9190-0207-488a-f12b-d3fafe2b6fdd"
      },
      "execution_count": null,
      "outputs": [
        {
          "output_type": "execute_result",
          "data": {
            "text/plain": [
              "array([[-1.42611392],\n",
              "       [-1.59266784],\n",
              "       [-1.77830069],\n",
              "       [-1.70748519],\n",
              "       [-1.76678458]])"
            ]
          },
          "metadata": {},
          "execution_count": 116
        }
      ]
    },
    {
      "cell_type": "code",
      "source": [
        "ytreino_novo[0:5]"
      ],
      "metadata": {
        "colab": {
          "base_uri": "https://localhost:8080/"
        },
        "id": "uSzNTldsyPW8",
        "outputId": "28c72fb9-2270-48e6-b807-a9f0bc9d3f64"
      },
      "execution_count": null,
      "outputs": [
        {
          "output_type": "execute_result",
          "data": {
            "text/plain": [
              "array([-1.59266784, -1.77830069, -1.70748519, -1.76678458, -1.82075561])"
            ]
          },
          "metadata": {},
          "execution_count": 117
        }
      ]
    },
    {
      "cell_type": "code",
      "source": [
        "vetor2=pd.DataFrame(yteste)[0]"
      ],
      "metadata": {
        "id": "5W1qFzHNyPeF"
      },
      "execution_count": null,
      "outputs": []
    },
    {
      "cell_type": "code",
      "source": [
        "xteste_novo, yteste_novo=separa_dados(vetor2, 1)"
      ],
      "metadata": {
        "id": "lE_GY6I3yVpn"
      },
      "execution_count": null,
      "outputs": []
    },
    {
      "cell_type": "code",
      "source": [
        "regressor3=Sequential()"
      ],
      "metadata": {
        "id": "Z97LLq6xyVsU"
      },
      "execution_count": null,
      "outputs": []
    },
    {
      "cell_type": "code",
      "source": [
        "#adicionando a sequencia  de  camadas\n",
        "regressor3.add(Dense(8, input_dim=1, kernel_initializer='ones', activation='linear', use_bias=False))\n",
        "regressor3.add(Dense(64, kernel_initializer='random_uniform', activation='sigmoid', use_bias=False))\n",
        "regressor3.add(Dense(1, kernel_initializer='random_uniform', activation='linear', use_bias=False))"
      ],
      "metadata": {
        "id": "sDBTg-xpyVub"
      },
      "execution_count": null,
      "outputs": []
    },
    {
      "cell_type": "code",
      "source": [
        "#compilando a rede\n",
        "regressor3.compile(loss='mean_squared_error', optimizer='adam')"
      ],
      "metadata": {
        "id": "G9cMJvPRydrC"
      },
      "execution_count": null,
      "outputs": []
    },
    {
      "cell_type": "code",
      "source": [
        "regressor3.fit(xtreino_novo, ytreino_novo, epochs=100)"
      ],
      "metadata": {
        "colab": {
          "base_uri": "https://localhost:8080/"
        },
        "id": "INP7iRdxydth",
        "outputId": "4245a12d-f1ba-4324-e8c7-b35fdc9cd36d"
      },
      "execution_count": null,
      "outputs": [
        {
          "output_type": "stream",
          "name": "stdout",
          "text": [
            "Epoch 1/100\n",
            "4/4 [==============================] - 1s 6ms/step - loss: 1.0431\n",
            "Epoch 2/100\n",
            "4/4 [==============================] - 0s 11ms/step - loss: 1.0137\n",
            "Epoch 3/100\n",
            "4/4 [==============================] - 0s 10ms/step - loss: 0.9806\n",
            "Epoch 4/100\n",
            "4/4 [==============================] - 0s 10ms/step - loss: 0.9505\n",
            "Epoch 5/100\n",
            "4/4 [==============================] - 0s 8ms/step - loss: 0.9162\n",
            "Epoch 6/100\n",
            "4/4 [==============================] - 0s 9ms/step - loss: 0.8812\n",
            "Epoch 7/100\n",
            "4/4 [==============================] - 0s 14ms/step - loss: 0.8420\n",
            "Epoch 8/100\n",
            "4/4 [==============================] - 0s 12ms/step - loss: 0.8009\n",
            "Epoch 9/100\n",
            "4/4 [==============================] - 0s 13ms/step - loss: 0.7553\n",
            "Epoch 10/100\n",
            "4/4 [==============================] - 0s 11ms/step - loss: 0.7019\n",
            "Epoch 11/100\n",
            "4/4 [==============================] - 0s 16ms/step - loss: 0.6507\n",
            "Epoch 12/100\n",
            "4/4 [==============================] - 0s 11ms/step - loss: 0.5948\n",
            "Epoch 13/100\n",
            "4/4 [==============================] - 0s 12ms/step - loss: 0.5362\n",
            "Epoch 14/100\n",
            "4/4 [==============================] - 0s 7ms/step - loss: 0.4786\n",
            "Epoch 15/100\n",
            "4/4 [==============================] - 0s 7ms/step - loss: 0.4183\n",
            "Epoch 16/100\n",
            "4/4 [==============================] - 0s 6ms/step - loss: 0.3615\n",
            "Epoch 17/100\n",
            "4/4 [==============================] - 0s 6ms/step - loss: 0.3055\n",
            "Epoch 18/100\n",
            "4/4 [==============================] - 0s 6ms/step - loss: 0.2606\n",
            "Epoch 19/100\n",
            "4/4 [==============================] - 0s 7ms/step - loss: 0.2135\n",
            "Epoch 20/100\n",
            "4/4 [==============================] - 0s 8ms/step - loss: 0.1787\n",
            "Epoch 21/100\n",
            "4/4 [==============================] - 0s 8ms/step - loss: 0.1478\n",
            "Epoch 22/100\n",
            "4/4 [==============================] - 0s 3ms/step - loss: 0.1236\n",
            "Epoch 23/100\n",
            "4/4 [==============================] - 0s 4ms/step - loss: 0.1088\n",
            "Epoch 24/100\n",
            "4/4 [==============================] - 0s 4ms/step - loss: 0.0951\n",
            "Epoch 25/100\n",
            "4/4 [==============================] - 0s 4ms/step - loss: 0.0885\n",
            "Epoch 26/100\n",
            "4/4 [==============================] - 0s 4ms/step - loss: 0.0845\n",
            "Epoch 27/100\n",
            "4/4 [==============================] - 0s 4ms/step - loss: 0.0827\n",
            "Epoch 28/100\n",
            "4/4 [==============================] - 0s 3ms/step - loss: 0.0815\n",
            "Epoch 29/100\n",
            "4/4 [==============================] - 0s 4ms/step - loss: 0.0812\n",
            "Epoch 30/100\n",
            "4/4 [==============================] - 0s 4ms/step - loss: 0.0813\n",
            "Epoch 31/100\n",
            "4/4 [==============================] - 0s 4ms/step - loss: 0.0815\n",
            "Epoch 32/100\n",
            "4/4 [==============================] - 0s 4ms/step - loss: 0.0815\n",
            "Epoch 33/100\n",
            "4/4 [==============================] - 0s 4ms/step - loss: 0.0815\n",
            "Epoch 34/100\n",
            "4/4 [==============================] - 0s 4ms/step - loss: 0.0815\n",
            "Epoch 35/100\n",
            "4/4 [==============================] - 0s 4ms/step - loss: 0.0813\n",
            "Epoch 36/100\n",
            "4/4 [==============================] - 0s 4ms/step - loss: 0.0812\n",
            "Epoch 37/100\n",
            "4/4 [==============================] - 0s 4ms/step - loss: 0.0812\n",
            "Epoch 38/100\n",
            "4/4 [==============================] - 0s 4ms/step - loss: 0.0812\n",
            "Epoch 39/100\n",
            "4/4 [==============================] - 0s 3ms/step - loss: 0.0812\n",
            "Epoch 40/100\n",
            "4/4 [==============================] - 0s 4ms/step - loss: 0.0811\n",
            "Epoch 41/100\n",
            "4/4 [==============================] - 0s 4ms/step - loss: 0.0813\n",
            "Epoch 42/100\n",
            "4/4 [==============================] - 0s 4ms/step - loss: 0.0814\n",
            "Epoch 43/100\n",
            "4/4 [==============================] - 0s 4ms/step - loss: 0.0812\n",
            "Epoch 44/100\n",
            "4/4 [==============================] - 0s 4ms/step - loss: 0.0810\n",
            "Epoch 45/100\n",
            "4/4 [==============================] - 0s 4ms/step - loss: 0.0812\n",
            "Epoch 46/100\n",
            "4/4 [==============================] - 0s 6ms/step - loss: 0.0812\n",
            "Epoch 47/100\n",
            "4/4 [==============================] - 0s 6ms/step - loss: 0.0810\n",
            "Epoch 48/100\n",
            "4/4 [==============================] - 0s 4ms/step - loss: 0.0821\n",
            "Epoch 49/100\n",
            "4/4 [==============================] - 0s 4ms/step - loss: 0.0812\n",
            "Epoch 50/100\n",
            "4/4 [==============================] - 0s 4ms/step - loss: 0.0813\n",
            "Epoch 51/100\n",
            "4/4 [==============================] - 0s 4ms/step - loss: 0.0811\n",
            "Epoch 52/100\n",
            "4/4 [==============================] - 0s 4ms/step - loss: 0.0810\n",
            "Epoch 53/100\n",
            "4/4 [==============================] - 0s 4ms/step - loss: 0.0815\n",
            "Epoch 54/100\n",
            "4/4 [==============================] - 0s 4ms/step - loss: 0.0811\n",
            "Epoch 55/100\n",
            "4/4 [==============================] - 0s 5ms/step - loss: 0.0810\n",
            "Epoch 56/100\n",
            "4/4 [==============================] - 0s 4ms/step - loss: 0.0809\n",
            "Epoch 57/100\n",
            "4/4 [==============================] - 0s 4ms/step - loss: 0.0809\n",
            "Epoch 58/100\n",
            "4/4 [==============================] - 0s 3ms/step - loss: 0.0812\n",
            "Epoch 59/100\n",
            "4/4 [==============================] - 0s 5ms/step - loss: 0.0812\n",
            "Epoch 60/100\n",
            "4/4 [==============================] - 0s 6ms/step - loss: 0.0809\n",
            "Epoch 61/100\n",
            "4/4 [==============================] - 0s 3ms/step - loss: 0.0809\n",
            "Epoch 62/100\n",
            "4/4 [==============================] - 0s 5ms/step - loss: 0.0808\n",
            "Epoch 63/100\n",
            "4/4 [==============================] - 0s 4ms/step - loss: 0.0809\n",
            "Epoch 64/100\n",
            "4/4 [==============================] - 0s 4ms/step - loss: 0.0810\n",
            "Epoch 65/100\n",
            "4/4 [==============================] - 0s 4ms/step - loss: 0.0808\n",
            "Epoch 66/100\n",
            "4/4 [==============================] - 0s 4ms/step - loss: 0.0809\n",
            "Epoch 67/100\n",
            "4/4 [==============================] - 0s 4ms/step - loss: 0.0809\n",
            "Epoch 68/100\n",
            "4/4 [==============================] - 0s 4ms/step - loss: 0.0807\n",
            "Epoch 69/100\n",
            "4/4 [==============================] - 0s 4ms/step - loss: 0.0807\n",
            "Epoch 70/100\n",
            "4/4 [==============================] - 0s 4ms/step - loss: 0.0808\n",
            "Epoch 71/100\n",
            "4/4 [==============================] - 0s 4ms/step - loss: 0.0807\n",
            "Epoch 72/100\n",
            "4/4 [==============================] - 0s 4ms/step - loss: 0.0807\n",
            "Epoch 73/100\n",
            "4/4 [==============================] - 0s 4ms/step - loss: 0.0809\n",
            "Epoch 74/100\n",
            "4/4 [==============================] - 0s 4ms/step - loss: 0.0808\n",
            "Epoch 75/100\n",
            "4/4 [==============================] - 0s 5ms/step - loss: 0.0808\n",
            "Epoch 76/100\n",
            "4/4 [==============================] - 0s 6ms/step - loss: 0.0807\n",
            "Epoch 77/100\n",
            "4/4 [==============================] - 0s 4ms/step - loss: 0.0810\n",
            "Epoch 78/100\n",
            "4/4 [==============================] - 0s 4ms/step - loss: 0.0812\n",
            "Epoch 79/100\n",
            "4/4 [==============================] - 0s 4ms/step - loss: 0.0806\n",
            "Epoch 80/100\n",
            "4/4 [==============================] - 0s 4ms/step - loss: 0.0806\n",
            "Epoch 81/100\n",
            "4/4 [==============================] - 0s 4ms/step - loss: 0.0807\n",
            "Epoch 82/100\n",
            "4/4 [==============================] - 0s 4ms/step - loss: 0.0806\n",
            "Epoch 83/100\n",
            "4/4 [==============================] - 0s 4ms/step - loss: 0.0807\n",
            "Epoch 84/100\n",
            "4/4 [==============================] - 0s 4ms/step - loss: 0.0807\n",
            "Epoch 85/100\n",
            "4/4 [==============================] - 0s 7ms/step - loss: 0.0806\n",
            "Epoch 86/100\n",
            "4/4 [==============================] - 0s 4ms/step - loss: 0.0806\n",
            "Epoch 87/100\n",
            "4/4 [==============================] - 0s 5ms/step - loss: 0.0807\n",
            "Epoch 88/100\n",
            "4/4 [==============================] - 0s 4ms/step - loss: 0.0806\n",
            "Epoch 89/100\n",
            "4/4 [==============================] - 0s 4ms/step - loss: 0.0807\n",
            "Epoch 90/100\n",
            "4/4 [==============================] - 0s 4ms/step - loss: 0.0804\n",
            "Epoch 91/100\n",
            "4/4 [==============================] - 0s 5ms/step - loss: 0.0808\n",
            "Epoch 92/100\n",
            "4/4 [==============================] - 0s 5ms/step - loss: 0.0804\n",
            "Epoch 93/100\n",
            "4/4 [==============================] - 0s 4ms/step - loss: 0.0807\n",
            "Epoch 94/100\n",
            "4/4 [==============================] - 0s 4ms/step - loss: 0.0807\n",
            "Epoch 95/100\n",
            "4/4 [==============================] - 0s 4ms/step - loss: 0.0805\n",
            "Epoch 96/100\n",
            "4/4 [==============================] - 0s 4ms/step - loss: 0.0805\n",
            "Epoch 97/100\n",
            "4/4 [==============================] - 0s 4ms/step - loss: 0.0804\n",
            "Epoch 98/100\n",
            "4/4 [==============================] - 0s 4ms/step - loss: 0.0808\n",
            "Epoch 99/100\n",
            "4/4 [==============================] - 0s 4ms/step - loss: 0.0805\n",
            "Epoch 100/100\n",
            "4/4 [==============================] - 0s 4ms/step - loss: 0.0805\n"
          ]
        },
        {
          "output_type": "execute_result",
          "data": {
            "text/plain": [
              "<keras.callbacks.History at 0x7f92bf111ca0>"
            ]
          },
          "metadata": {},
          "execution_count": 123
        }
      ]
    },
    {
      "cell_type": "code",
      "source": [
        "y_predict_novo=regressor3.predict(xtreino_novo)"
      ],
      "metadata": {
        "colab": {
          "base_uri": "https://localhost:8080/"
        },
        "id": "b2sDZDvkydwG",
        "outputId": "3f741cc0-ee1e-4ee3-8de7-5dd9c926f8f3"
      },
      "execution_count": null,
      "outputs": [
        {
          "output_type": "stream",
          "name": "stdout",
          "text": [
            "4/4 [==============================] - 0s 6ms/step\n"
          ]
        }
      ]
    },
    {
      "cell_type": "code",
      "source": [
        "sns.lineplot(x='timestamp', y=ytreino_novo, data=cotacoes1[1:114], label='treino')\n",
        "sns.lineplot(x='timestamp', y=pd.DataFrame(y_predict_novo)[0], data=cotacoes1[1:113], label='ajuste_treino')"
      ],
      "metadata": {
        "colab": {
          "base_uri": "https://localhost:8080/",
          "height": 405
        },
        "id": "17SpJP8cyd2K",
        "outputId": "524839ef-c476-4af6-df6e-61ffb9e3e796"
      },
      "execution_count": null,
      "outputs": [
        {
          "output_type": "execute_result",
          "data": {
            "text/plain": [
              "<matplotlib.axes._subplots.AxesSubplot at 0x7f92bf92b070>"
            ]
          },
          "metadata": {},
          "execution_count": 131
        },
        {
          "output_type": "display_data",
          "data": {
            "text/plain": [
              "<Figure size 720x432 with 1 Axes>"
            ],
            "image/png": "[encoded data removed]"
          },
          "metadata": {
            "needs_background": "light"
          }
        }
      ]
    },
    {
      "cell_type": "code",
      "source": [
        "y_predict_teste_novo=regressor3.predict(xteste_novo)"
      ],
      "metadata": {
        "colab": {
          "base_uri": "https://localhost:8080/"
        },
        "id": "_WyBncioytO2",
        "outputId": "9094c4ae-572c-49d1-ebed-5b1700b9169c"
      },
      "execution_count": null,
      "outputs": [
        {
          "output_type": "stream",
          "name": "stdout",
          "text": [
            "1/1 [==============================] - 0s 27ms/step\n"
          ]
        }
      ]
    },
    {
      "cell_type": "code",
      "source": [
        "resultado=pd.DataFrame(y_predict_teste_novo)[0]"
      ],
      "metadata": {
        "id": "J2dpB9CSzycu"
      },
      "execution_count": null,
      "outputs": []
    },
    {
      "cell_type": "code",
      "source": [
        "sns.lineplot(x='timestamp', y=ytreino_novo, data=cotacoes1[1:114], label='treino')\n",
        "sns.lineplot(x='timestamp', y=pd.DataFrame(y_predict_novo)[0], data=cotacoes1[1:129], label='ajuste_treino')\n",
        "sns.lineplot(x='timestamp', y=yteste_novo, data=cotacoes1[115:129], label='teste')\n",
        "sns.lineplot(x='timestamp',y=resultado.values, data=cotacoes1[115:129], label='previsao')"
      ],
      "metadata": {
        "colab": {
          "base_uri": "https://localhost:8080/",
          "height": 405
        },
        "id": "CDMrC2tvzz-j",
        "outputId": "14d72a72-7bb9-4cee-8e9c-d7f0079a1cbe"
      },
      "execution_count": null,
      "outputs": [
        {
          "output_type": "execute_result",
          "data": {
            "text/plain": [
              "<matplotlib.axes._subplots.AxesSubplot at 0x7f92be5e4a90>"
            ]
          },
          "metadata": {},
          "execution_count": 137
        },
        {
          "output_type": "display_data",
          "data": {
            "text/plain": [
              "<Figure size 720x432 with 1 Axes>"
            ],
            "image/png": "[encoded data removed]"
          },
          "metadata": {
            "needs_background": "light"
          }
        }
      ]
    },
    {
      "cell_type": "code",
      "source": [],
      "metadata": {
        "id": "PYgayLa_0INl"
      },
      "execution_count": null,
      "outputs": []
    }
  ]
}